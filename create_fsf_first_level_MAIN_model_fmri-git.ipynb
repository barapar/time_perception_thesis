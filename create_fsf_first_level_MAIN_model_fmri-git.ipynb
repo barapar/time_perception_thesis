{
 "cells": [
  {
   "cell_type": "code",
   "execution_count": null,
   "metadata": {},
   "outputs": [],
   "source": [
    "#########################################\n",
    "\n",
    "# ENTER MODEL WHICH YOU RUN\n",
    "\n",
    "#########################################\n",
    "\n",
    "model = 'glm_complex_anova'"
   ]
  },
  {
   "cell_type": "code",
   "execution_count": null,
   "metadata": {},
   "outputs": [],
   "source": [
    "\"\"\"\n",
    "###############\n",
    "1. the function of the volume rewrite was incorrect\n",
    "2. there was an error in dummy.fsf, the output file should be not \"run-01\",\n",
    "   but \"run-01.feat\"\n",
    "###############\n",
    "\"\"\"\n",
    "\n",
    "import re\n",
    "import shutil\n",
    "import nibabel as nib\n",
    "import os\n",
    "import csv\n",
    "import fileinput\n",
    "import tempfile\n",
    "import nipype.interfaces.fsl as fsl"
   ]
  },
  {
   "cell_type": "code",
   "execution_count": null,
   "metadata": {},
   "outputs": [],
   "source": [
    "def make_fsf_run(sub, run):\n",
    "    new = [line.replace('sub-01', sub) for line in dummy]\n",
    "    new = [line.replace('run-01', run) for line in new]\n",
    "    with open(os.path.join(DATA_DIR, sub, 'feat-design_'+run+'.fsf'), 'w') as fname:\n",
    "        for line in new:\n",
    "            fname.write(line)\n",
    "            \n",
    "def rewrite_volumes_num(sub,run):\n",
    "    fsf_file_path = os.path.join(DATA_DIR, sub, 'feat-design_'+run+'.fsf')\n",
    "    NIFTI_DIR = pth+\"/preprocess/\"+sub+\"/func\"\n",
    "\n",
    "    nifti_file_path = NIFTI_DIR+\"/\"+sub+\"_task-reproduction_\"+run+\"_space-MNI152NLin2009cAsym_desc-preproc_bold.nii.gz\"\n",
    "\n",
    "    nifti_file = nib.load(nifti_file_path)\n",
    "    actual_num_volumes = nifti_file.shape[3]\n",
    "    print(f'number of volumes {actual_num_volumes}')\n",
    "    # a line that starts with \"set fmri(npts)\" + one or more digits (represented by \"\\d+\"\n",
    "    # r before the quotes tell that \"\\\" should be left as it is\n",
    "    find_regex = r\"(set fmri\\(npts\\)) \\d+\"\n",
    "    replace_regex = r\"\\g<1> {}\".format(actual_num_volumes)\n",
    "    \n",
    "    # Open the FSF file and read its contents\n",
    "    with open(fsf_file_path, \"r\") as fsf_file:\n",
    "        fsf_contents = fsf_file.read()\n",
    "        \n",
    "    # Use regular expressions to find and replace the number of volumes\n",
    "    fsf_contents = re.sub(find_regex, replace_regex, fsf_contents,flags=re.MULTILINE)\n",
    "    \n",
    "    with open(fsf_file_path, \"w\") as fsf_file:\n",
    "        fsf_file.write(fsf_contents)"
   ]
  },
  {
   "cell_type": "code",
   "execution_count": null,
   "metadata": {},
   "outputs": [],
   "source": [
    "pth = '/home/lisz/Desktop/Time_project/time_fmri/data/derivatives'\n",
    "\n",
    "DATA_DIR = pth+'/'+model+'/glm_1st_level'\n",
    "\n",
    "runs = [\"run-01\",\"run-02\",\"run-03\",\"run-04\"]\n",
    "\n",
    "pth_sub_list = \"/home/lisz/Desktop/Time_project/time_fmri/data\"\n",
    "\n",
    "with open(pth_sub_list+'/participants.tsv', 'r') as tsv_file:\n",
    "    subjects_list = ['sub-{0:02d}'.format(int(row['participant_id'])) for row in csv.DictReader(tsv_file, delimiter='\\t')]"
   ]
  },
  {
   "cell_type": "code",
   "execution_count": null,
   "metadata": {
    "scrolled": false
   },
   "outputs": [],
   "source": [
    "for sub in subjects_list:\n",
    "    print(f'Processing {sub}')\n",
    "    for run in runs:\n",
    "        print(f'Processing      {run}')\n",
    "        if not os.path.isdir(os.path.join(DATA_DIR, sub)):\n",
    "            os.mkdir(os.path.join(DATA_DIR, sub))\n",
    "        with open(os.path.join(DATA_DIR, 'draft.fsf'), 'r') as fname:\n",
    "            dummy = fname.readlines()\n",
    "            make_fsf_run(sub, run)\n",
    "            rewrite_volumes_num(sub,run)"
   ]
  },
  {
   "cell_type": "code",
   "execution_count": null,
   "metadata": {},
   "outputs": [],
   "source": []
  },
  {
   "cell_type": "code",
   "execution_count": null,
   "metadata": {},
   "outputs": [],
   "source": []
  },
  {
   "cell_type": "code",
   "execution_count": null,
   "metadata": {},
   "outputs": [],
   "source": []
  },
  {
   "cell_type": "code",
   "execution_count": null,
   "metadata": {},
   "outputs": [],
   "source": []
  }
 ],
 "metadata": {
  "kernelspec": {
   "display_name": "Python 3",
   "language": "python",
   "name": "python3"
  },
  "language_info": {
   "codemirror_mode": {
    "name": "ipython",
    "version": 3
   },
   "file_extension": ".py",
   "mimetype": "text/x-python",
   "name": "python",
   "nbconvert_exporter": "python",
   "pygments_lexer": "ipython3",
   "version": "3.6.10"
  }
 },
 "nbformat": 4,
 "nbformat_minor": 4
}
