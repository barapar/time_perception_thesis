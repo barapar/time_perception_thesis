{
 "cells": [
  {
   "cell_type": "code",
   "execution_count": null,
   "metadata": {},
   "outputs": [],
   "source": [
    "# ================================\n",
    "# ENTER MODEL YOU'RE WORKING WITH\n",
    "# ================================\n",
    "\n",
    "model = 'glm_complex_anova'"
   ]
  },
  {
   "cell_type": "code",
   "execution_count": null,
   "metadata": {},
   "outputs": [],
   "source": [
    "import os\n",
    "import csv\n",
    "import nipype.interfaces.fsl as fsl"
   ]
  },
  {
   "cell_type": "code",
   "execution_count": null,
   "metadata": {},
   "outputs": [],
   "source": [
    "# as a subjects list open the tsv file with subjects list for fmriprep\n",
    "pth = \"/home/lisz/Desktop/Time_project/time_fmri/data\"\n",
    "\n",
    "with open(pth+'/participants.tsv', 'r') as tsv_file:\n",
    "    subjects_list = ['sub-{0:02d}'.format(int(row['participant_id'])) for row in csv.DictReader(tsv_file, delimiter='\\t')]"
   ]
  },
  {
   "cell_type": "code",
   "execution_count": null,
   "metadata": {},
   "outputs": [],
   "source": [
    "DATA_DIR = pth+'/derivatives/'+model+'/glm_2nd_level'"
   ]
  },
  {
   "cell_type": "code",
   "execution_count": null,
   "metadata": {},
   "outputs": [],
   "source": [
    "def make_fsf_level_2(sub):\n",
    "    # dummy without registration\n",
    "    new = [line.replace('sub-01', sub) for line in dummy]\n",
    "    with open(os.path.join(DATA_DIR, sub, 'feat-design_2nd_level.fsf'), 'w') as fname:\n",
    "        for line in new:\n",
    "            fname.write(line)"
   ]
  },
  {
   "cell_type": "code",
   "execution_count": null,
   "metadata": {
    "scrolled": false
   },
   "outputs": [],
   "source": [
    "\"\"\"  create fsf 2nd level \"\"\"\n",
    "\n",
    "for sub in subjects_list:\n",
    "    if not os.path.isdir(os.path.join(DATA_DIR, sub)):\n",
    "        os.mkdir(os.path.join(DATA_DIR, sub))\n",
    "    if sub == \"sub-10\" or sub == \"sub-18\":\n",
    "        print(f'3 runs {sub}')\n",
    "        with open(os.path.join(DATA_DIR, 'draft_2nd_level_3_runs.fsf'), 'r') as fname:\n",
    "            dummy = fname.readlines()\n",
    "            make_fsf_level_2(sub)\n",
    "    else:       \n",
    "        with open(os.path.join(DATA_DIR, 'draft_2nd_level.fsf'), 'r') as fname:\n",
    "            print(f'Processing {sub}')\n",
    "            dummy = fname.readlines()\n",
    "            make_fsf_level_2(sub)"
   ]
  },
  {
   "cell_type": "code",
   "execution_count": null,
   "metadata": {},
   "outputs": [],
   "source": []
  },
  {
   "cell_type": "code",
   "execution_count": null,
   "metadata": {},
   "outputs": [],
   "source": []
  },
  {
   "cell_type": "code",
   "execution_count": null,
   "metadata": {},
   "outputs": [],
   "source": []
  },
  {
   "cell_type": "code",
   "execution_count": null,
   "metadata": {},
   "outputs": [],
   "source": []
  }
 ],
 "metadata": {
  "kernelspec": {
   "display_name": "Python 3",
   "language": "python",
   "name": "python3"
  },
  "language_info": {
   "codemirror_mode": {
    "name": "ipython",
    "version": 3
   },
   "file_extension": ".py",
   "mimetype": "text/x-python",
   "name": "python",
   "nbconvert_exporter": "python",
   "pygments_lexer": "ipython3",
   "version": "3.6.10"
  }
 },
 "nbformat": 4,
 "nbformat_minor": 4
}
