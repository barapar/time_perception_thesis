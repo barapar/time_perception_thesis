{
 "cells": [
  {
   "cell_type": "code",
   "execution_count": null,
   "metadata": {},
   "outputs": [],
   "source": [
    "import pandas as pd\n",
    "import numpy as np\n",
    "import os\n",
    "import matplotlib.pyplot as plt\n",
    "import seaborn as sns\n",
    "import pingouin as pg\n",
    "from scipy import stats\n",
    "import math"
   ]
  },
  {
   "cell_type": "code",
   "execution_count": null,
   "metadata": {},
   "outputs": [],
   "source": [
    "def write_eccentricity(s):\n",
    "    values = [7, 18]\n",
    "    conditions = [(s['standard_pos'] == -2),\n",
    "                  (s['standard_pos'] == 9)]\n",
    "    s['eccentricity'] = np.select(conditions, values)"
   ]
  },
  {
   "cell_type": "code",
   "execution_count": null,
   "metadata": {},
   "outputs": [],
   "source": [
    "\n",
    "sub_list = [\"sub-01\",\"sub-02\",\"sub-03\",\n",
    "            \"sub-04\",\"sub-05\",\"sub-06\",\n",
    "            \"sub-07\",\"sub-08\",\"sub-09\",\n",
    "            \"sub-10\",\"sub-11\",\"sub-12\",\n",
    "            \"sub-13\",\"sub-15\",\"sub-16\",\n",
    "            \"sub-17\",\"sub-18\",\"sub-19\",\n",
    "            \"sub-21\",\"sub-22\",\"sub-23\",\n",
    "            \"sub-24\",\"sub-25\",\"sub-26\",\n",
    "            \"sub-27\",\"sub-28\",\"sub-30\",\n",
    "            \"sub-31\",\"sub-32\",\"sub-33\",]\n",
    "\n",
    "\n",
    "run_list = [\"run-01\",\"run-02\",\"run-03\",\"run-04\"]\n",
    "\n",
    "# Path to the folder containing subject-specific subfolders\n",
    "pth = \"/home/lisz/Desktop/Time_project/time_fmri/behavioral_data/raw_behavioral_data\"\n",
    "pth_save = \"/home/lisz/Desktop/Time_project/time_fmri/behavioral_data\""
   ]
  },
  {
   "cell_type": "code",
   "execution_count": null,
   "metadata": {
    "scrolled": false
   },
   "outputs": [],
   "source": [
    "'''\n",
    "open raw file\n",
    "set default of exclusion as \"stay\"\n",
    "mark values below 0.5 and above 8 seconds rt as \"exclude\"\n",
    "if button was pressed before the second stimuli appearance - also \"exclude\"\n",
    "use function which writes eccentricity\n",
    "save to a folder \"behavioral_data\"\n",
    "DO NOT DELETE TRIALS, JUST MARK THEM\n",
    "'''\n",
    "\n",
    "for sub in sub_list:    \n",
    "    for run in run_list:\n",
    "        df = pd.read_csv(pth+f\"/{sub}/{sub}_{run}_Reproduction_exp_timeline.csv\")\n",
    "        df['exclusion'] = \"stay\"\n",
    "        for index, value in df['key_resp_rt'].items():\n",
    "            if value < 0.5 or value > 8 or math.isnan(value):\n",
    "                df.at[index, 'exclusion'] = \"exclude\"\n",
    "        if \"press_error.rt\" in df.columns:\n",
    "            for index, value in df['press_error.rt'].items():\n",
    "                if value > 0:\n",
    "                    df.at[index, 'exclusion'] = \"exclude\"\n",
    "        #print(\"Failed trials\",sub,run,len(df[df['exclusion']=='exclude']))\n",
    "        write_eccentricity(df)\n",
    "        \n",
    "        file_dir = os.path.join(pth_save, sub)\n",
    "        os.makedirs(file_dir, exist_ok=True)\n",
    "        df.to_csv(f'{file_dir}/{sub}_{run}.csv', sep=',',index=False)"
   ]
  },
  {
   "cell_type": "markdown",
   "metadata": {},
   "source": [
    "#### Delete answers where the difference for 1 or 2 answers is bigger than 1.5 seconds\n",
    "\n",
    "no more than 2 responses within the subject and had a difference of 1.5 seconds or more from the other responses"
   ]
  },
  {
   "cell_type": "code",
   "execution_count": null,
   "metadata": {},
   "outputs": [],
   "source": [
    "'''\n",
    "open files direction where already filtered data is stored\n",
    "in column \"exclusion\" take row with index_n and change value to 'exclude'\n",
    "save back to the folder with filtered data\n",
    "'''\n",
    "\n",
    "def manual_exclusion(sub,run,index_n):\n",
    "    file_dir = os.path.join(pth_save, sub)\n",
    "    os.makedirs(file_dir, exist_ok=True)\n",
    "    df = pd.read_csv(f'{file_dir}/{sub}_{run}.csv')\n",
    "    # in column \"exclusion\" take row with index_n and change value to 'exclude'\n",
    "    df.at[index_n, 'exclusion'] = \"exclude\"\n",
    "    print(\"Exclued trials, index\",index_n,sub,run)\n",
    "    \n",
    "    df.to_csv(f'{file_dir}/{sub}_{run}.csv', sep=',',index=False)\n",
    "    #return df"
   ]
  },
  {
   "cell_type": "code",
   "execution_count": null,
   "metadata": {},
   "outputs": [],
   "source": [
    "manual_exclusion('sub-04','run-02',20)\n",
    "manual_exclusion('sub-10','run-04',17)\n",
    "\n",
    "manual_exclusion('sub-16','run-02',3)\n",
    "manual_exclusion('sub-19','run-03',17)\n",
    "\n",
    "manual_exclusion('sub-24','run-04',14)\n",
    "manual_exclusion('sub-26','run-03',17)\n",
    "\n",
    "manual_exclusion('sub-31','run-04',7)"
   ]
  },
  {
   "cell_type": "markdown",
   "metadata": {},
   "source": [
    "### Create df for each subject for all runs"
   ]
  },
  {
   "cell_type": "code",
   "execution_count": null,
   "metadata": {},
   "outputs": [],
   "source": [
    "'''\n",
    "concat runs for each subject and save it\n",
    "'''\n",
    "\n",
    "for sub in sub_list:\n",
    "    data1 = pd.read_csv(pth_save+f\"/{sub}/{sub}_run-01.csv\")\n",
    "    data2 = pd.read_csv(pth_save+f\"/{sub}/{sub}_run-02.csv\")\n",
    "    data3 = pd.read_csv(pth_save+f\"/{sub}/{sub}_run-03.csv\")\n",
    "    data4 = pd.read_csv(pth_save+f\"/{sub}/{sub}_run-04.csv\")\n",
    "    data_list = [data1,data2,data3,data4]\n",
    "    data_all_runs = pd.concat(data_list)\n",
    "    data_all_runs.to_csv(pth_save+f'/{sub}/{sub}_all_runs.csv', sep=',')"
   ]
  },
  {
   "cell_type": "code",
   "execution_count": null,
   "metadata": {},
   "outputs": [],
   "source": [
    "'''\n",
    "open each subjects data into one dataset\n",
    "'''\n",
    "\n",
    "df_list = []\n",
    "for sub in sub_list:    \n",
    "    df = pd.read_csv(pth_save+f\"/{sub}/{sub}_all_runs.csv\")\n",
    "    df_list.append(df)\n",
    "    \n",
    "df_all = pd.concat(df_list)\n",
    "df_all = df_all.dropna(subset=['key_resp_rt'])"
   ]
  },
  {
   "cell_type": "code",
   "execution_count": null,
   "metadata": {},
   "outputs": [],
   "source": [
    "\"\"\"\n",
    "SUBLIST WITHOUT THOSE WHO HAVE BLINDSPOT AROUND 18 degrees\n",
    "  \n",
    "\n",
    "sub_list = [ sub1 , sub2 , sub3 ,\n",
    "             sub5 , sub6 ,\n",
    "             sub8 ,\n",
    "             sub10 , sub11 ,\n",
    "             sub15 , sub16 ,\n",
    "             sub18 , sub19 ,\n",
    "             sub22 , sub23 ,\n",
    "             sub24 , sub26 ,\n",
    "             sub27 , sub28 , sub30 ,\n",
    "             sub31 , sub32 ]\"\"\" "
   ]
  },
  {
   "cell_type": "code",
   "execution_count": null,
   "metadata": {},
   "outputs": [],
   "source": [
    "print(df_all['participant'].unique())"
   ]
  },
  {
   "cell_type": "code",
   "execution_count": null,
   "metadata": {},
   "outputs": [],
   "source": [
    "'''\n",
    "looking at behavioral data, drop those which are marked\n",
    "as \"excluded\"\n",
    "'''\n",
    "\n",
    "df_all = df_all[df_all['exclusion'] != 'exclude']"
   ]
  },
  {
   "cell_type": "code",
   "execution_count": null,
   "metadata": {
    "scrolled": false
   },
   "outputs": [],
   "source": [
    "plt.figure(figsize=(15, 15))\n",
    "g = sns.catplot(y=\"key_resp_rt\", \n",
    "               data = df_all,\n",
    "               col=\"participant\", col_wrap=6, kind=\"point\",\n",
    "               height=4,\n",
    "               errwidth=2, capsize=0.1,\n",
    "               dodge=True,sharex=False)\n",
    "for ax in g.axes.flat:\n",
    "    ax.axhline(2, ls='--', color='silver')"
   ]
  },
  {
   "cell_type": "code",
   "execution_count": null,
   "metadata": {},
   "outputs": [],
   "source": [
    "g = sns.FacetGrid(df_all, col=\"participant\", col_wrap=6, height=4, sharex=False)\n",
    "\n",
    "# Use map to create histograms for each participant\n",
    "g.map(sns.histplot, \"key_resp_rt\")"
   ]
  },
  {
   "cell_type": "code",
   "execution_count": null,
   "metadata": {},
   "outputs": [],
   "source": [
    "df_all['key_resp_rt'].describe()[['mean','std']]"
   ]
  },
  {
   "cell_type": "code",
   "execution_count": null,
   "metadata": {},
   "outputs": [],
   "source": [
    "mean_rt = df_all.groupby(\"participant\")[\"key_resp_rt\"].mean().reset_index()\n",
    "mean_rt"
   ]
  },
  {
   "cell_type": "code",
   "execution_count": null,
   "metadata": {},
   "outputs": [],
   "source": [
    "sns.scatterplot(x=mean_rt['participant'], y=mean_rt['key_resp_rt'], color='darkred')\n",
    "plt.xticks([])\n",
    "\n",
    "# Rename y-axis\n",
    "plt.ylabel('Reproduced duration (s)')\n",
    "plt.xlabel('Subjects')\n",
    "\n",
    "# Add a title\n",
    "#plt.title('Mean reproduced duration by each participant')\n",
    "\n",
    "# Plot a horizontal line at y=2\n",
    "plt.axhline(y=2, color='gray', linestyle='--', label='stimulus duration')\n",
    "\n",
    "# Display legend\n",
    "plt.legend()\n",
    "\n",
    "# Show the plot\n",
    "plt.show()"
   ]
  },
  {
   "cell_type": "code",
   "execution_count": null,
   "metadata": {},
   "outputs": [],
   "source": [
    "sns.histplot(data=mean_rt, bins=30)"
   ]
  },
  {
   "cell_type": "code",
   "execution_count": null,
   "metadata": {},
   "outputs": [],
   "source": [
    "'''\n",
    "create two lists, subjects who overestimate and underestimate\n",
    "'''\n",
    "df_above = mean_rt[mean_rt['key_resp_rt'] > 2]\n",
    "df_below = mean_rt[mean_rt['key_resp_rt'] < 2]\n",
    "print(df_above['participant'].unique())\n",
    "print(len(df_above['participant'].unique()))"
   ]
  },
  {
   "cell_type": "code",
   "execution_count": null,
   "metadata": {},
   "outputs": [],
   "source": [
    "print(df_below['participant'].unique())\n",
    "print(len(df_below['participant'].unique()))"
   ]
  },
  {
   "cell_type": "code",
   "execution_count": null,
   "metadata": {},
   "outputs": [],
   "source": [
    "plt.style.use('default') # style of the background\n",
    "fig = plt.figure()\n",
    "ax = plt.axes()\n",
    "sns.lineplot(x='eccentricity', \n",
    "            y='key_resp_rt', \n",
    "            data=df_all, \n",
    "            hue = 'vis_area',\n",
    "            ci=68,#standard error or mean\n",
    "            err_style='bars',\n",
    "            palette = dict(perifoveal=\"steelblue\", peripheral=\"burlywood\"),\n",
    "            err_kws = {'capsize':2, \n",
    "                       'elinewidth':1.5, # errorbar width\n",
    "                       'capthick':1.5})\n",
    "#plt.axhline(2, ls='--', color='silver')\n",
    "plt.ylim(1.8, 2.4)\n",
    "plt.xlabel('Eccentricity')\n",
    "plt.ylabel('Response time')\n",
    "ax.spines['right'].set_visible(False)\n",
    "ax.spines['top'].set_visible(False)\n",
    "ax.set_xticks([7,18])\n",
    "\n",
    "#plt.text(0.2,2.01, \"standard duration\", color='silver')\n",
    "plt.title('fMRI exp, N=30')\n",
    "plt.legend(title = \"Eccentricities\", prop={'size': 7}, \n",
    "           loc='lower right',labels=['perifoveal (-7°,7°)', 'peripheral (-21°,21°)'])"
   ]
  },
  {
   "cell_type": "markdown",
   "metadata": {},
   "source": [
    "## Confirm that eccentricity is not significant"
   ]
  },
  {
   "cell_type": "code",
   "execution_count": null,
   "metadata": {},
   "outputs": [],
   "source": [
    "# isi in seconds\n",
    "res = pg.rm_anova(dv='key_resp_rt', within=['eccentricity'], \n",
    "                  subject='participant', \n",
    "                  data=df_all, detailed=True, effsize='np2')\n",
    "res"
   ]
  },
  {
   "cell_type": "markdown",
   "metadata": {},
   "source": [
    "### Normality check"
   ]
  },
  {
   "cell_type": "code",
   "execution_count": null,
   "metadata": {},
   "outputs": [],
   "source": [
    "s1 = dt[dt[\"participant\"]==1]\n",
    "s2 = dt[dt[\"participant\"]==2]\n",
    "s3 = dt[dt[\"participant\"]==3]\n",
    "\n",
    "s4 = dt[dt[\"participant\"]==4]\n",
    "s5 = dt[dt[\"participant\"]==5]\n",
    "s6 = dt[dt[\"participant\"]==6]\n",
    "\n",
    "s7 = dt[dt[\"participant\"]==7]\n",
    "s8 = dt[dt[\"participant\"]==8]\n",
    "s9 = dt[dt[\"participant\"]==9]\n",
    "\n",
    "s10 = dt[dt[\"participant\"]==10]\n",
    "s11 = dt[dt[\"participant\"]==11]\n",
    "s12 = dt[dt[\"participant\"]==12]\n",
    "\n",
    "s13 = dt[dt[\"participant\"]==13]\n",
    "s14 = dt[dt[\"participant\"]==14]\n",
    "s15 = dt[dt[\"participant\"]==15]\n",
    "\n",
    "s16 = dt[dt[\"participant\"]==16]"
   ]
  },
  {
   "cell_type": "code",
   "execution_count": null,
   "metadata": {},
   "outputs": [],
   "source": [
    "all_subj= [s1,s2,s3,\n",
    "           s4,s5,s6,\n",
    "           s7,s8,s9,\n",
    "           s10,s11,s12,\n",
    "           s13,s14,s15,\n",
    "           s16]"
   ]
  },
  {
   "cell_type": "code",
   "execution_count": null,
   "metadata": {},
   "outputs": [],
   "source": [
    "def normality_check():\n",
    "    list_means = []\n",
    "    for i in subject_list:\n",
    "        a = i.loc[(i['eccentricity']==18)]\n",
    "        b = a.key_resp_rt.mean()\n",
    "        list_means.append(b)\n",
    "    return list_means\n",
    "all_sub_means = normality_check()"
   ]
  },
  {
   "cell_type": "code",
   "execution_count": null,
   "metadata": {},
   "outputs": [],
   "source": [
    "pg.normality(all_sub_means, dv='key_resp_rt', \n",
    "             group='participant',\n",
    "             method='shapiro')"
   ]
  },
  {
   "cell_type": "markdown",
   "metadata": {},
   "source": [
    "### Normality check done, all normal"
   ]
  },
  {
   "cell_type": "code",
   "execution_count": null,
   "metadata": {},
   "outputs": [],
   "source": [
    "res = stats.probplot(all_sub_means, plot=plt)\n",
    "plt.title('pause duration = 2s, eccentricity = -21')\n",
    "plt.show()"
   ]
  },
  {
   "cell_type": "code",
   "execution_count": null,
   "metadata": {},
   "outputs": [],
   "source": []
  },
  {
   "cell_type": "code",
   "execution_count": null,
   "metadata": {},
   "outputs": [],
   "source": []
  },
  {
   "cell_type": "code",
   "execution_count": null,
   "metadata": {},
   "outputs": [],
   "source": []
  },
  {
   "cell_type": "markdown",
   "metadata": {},
   "source": [
    "## Debug"
   ]
  },
  {
   "cell_type": "code",
   "execution_count": null,
   "metadata": {},
   "outputs": [],
   "source": [
    "a = s16.loc[(s16['key_resp_rt']>2.5)]\n",
    "a"
   ]
  },
  {
   "cell_type": "code",
   "execution_count": null,
   "metadata": {},
   "outputs": [],
   "source": []
  }
 ],
 "metadata": {
  "kernelspec": {
   "display_name": "Python 3",
   "language": "python",
   "name": "python3"
  },
  "language_info": {
   "codemirror_mode": {
    "name": "ipython",
    "version": 3
   },
   "file_extension": ".py",
   "mimetype": "text/x-python",
   "name": "python",
   "nbconvert_exporter": "python",
   "pygments_lexer": "ipython3",
   "version": "3.6.10"
  }
 },
 "nbformat": 4,
 "nbformat_minor": 4
}
