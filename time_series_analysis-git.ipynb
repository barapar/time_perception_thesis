{
 "cells": [
  {
   "cell_type": "code",
   "execution_count": 266,
   "metadata": {},
   "outputs": [],
   "source": [
    "sub_list = [\"sub-01\",\"sub-02\",\"sub-03\",\n",
    "            \"sub-04\",\"sub-05\",\"sub-06\",\n",
    "            \"sub-07\",\"sub-08\",\"sub-09\",\n",
    "            \"sub-10\",\"sub-11\",\"sub-12\",\n",
    "            \"sub-13\",\"sub-15\",\"sub-16\",\n",
    "            \"sub-17\",\"sub-18\",\"sub-19\",\n",
    "            \"sub-21\",\"sub-22\",\"sub-23\",\n",
    "            \"sub-24\",\"sub-25\",\"sub-26\",\n",
    "            \"sub-27\",\"sub-28\",\"sub-30\",\n",
    "            \"sub-31\",\"sub-32\",\"sub-33\",]"
   ]
  },
  {
   "cell_type": "code",
   "execution_count": 143,
   "metadata": {},
   "outputs": [],
   "source": [
    "\"\"\"\n",
    "lists of subjects above two seconds mean rt (16)\n",
    "and below (14)\n",
    "\"\"\"\n",
    "\n",
    "sub_above = ['sub-01','sub-03','sub-05',\n",
    "             'sub-06','sub-07','sub-08',\n",
    "             'sub-10','sub-13','sub-16',\n",
    "             'sub-17','sub-18','sub-23',\n",
    "             'sub-24','sub-26','sub-30',\n",
    "             'sub-31']\n",
    "\n",
    "sub_below = ['sub-02','sub-04','sub-09',\n",
    "             'sub-11','sub-12','sub-15',\n",
    "             'sub-19','sub-21','sub-22',\n",
    "             'sub-25','sub-27','sub-28',\n",
    "             'sub-32','sub-33']\n"
   ]
  },
  {
   "cell_type": "markdown",
   "metadata": {},
   "source": [
    "### checked visually on 20th dec 2023 that linear registration was done correctly and indeed aligns with atlas_resampled"
   ]
  },
  {
   "cell_type": "code",
   "execution_count": 452,
   "metadata": {},
   "outputs": [],
   "source": [
    "import os\n",
    "import numpy as np\n",
    "import nibabel as nib\n",
    "import matplotlib.pyplot as plt\n",
    "import pandas as pd\n",
    "import pingouin as pg\n",
    "import csv\n",
    "from nilearn import datasets, image\n",
    "from nilearn.signal import butterworth\n",
    "from statsmodels.stats.multitest import multipletests\n",
    "import matplotlib as mpl"
   ]
  },
  {
   "cell_type": "markdown",
   "metadata": {},
   "source": [
    "## Filter confounds file"
   ]
  },
  {
   "cell_type": "code",
   "execution_count": 11,
   "metadata": {},
   "outputs": [
    {
     "data": {
      "text/plain": [
       "39"
      ]
     },
     "execution_count": 11,
     "metadata": {},
     "output_type": "execute_result"
    }
   ],
   "source": [
    "# from \"Rest\" part in Nialls file + additional four\n",
    "columns_n = ['global_signal','global_signal_derivative1','global_signal_derivative1_power2',\n",
    "           'global_signal_power2','csf', 'white_matter', 'tcompcor', 'cosine00', 'cosine01', 'cosine02',\n",
    "           'cosine03', 'trans_x', 'trans_x_derivative1', 'trans_x_power2', 'trans_x_derivative1_power2',\n",
    "           'trans_y', 'trans_y_derivative1', 'trans_y_derivative1_power2', 'trans_y_power2',\n",
    "           'trans_z', 'trans_z_derivative1', 'trans_z_derivative1_power2', 'trans_z_power2',\n",
    "           'rot_x', 'rot_x_derivative1', 'rot_x_power2', 'rot_x_derivative1_power2',\n",
    "           'rot_y', 'rot_y_derivative1', 'rot_y_power2', 'rot_y_derivative1_power2',\n",
    "           'rot_z', 'rot_z_derivative1','rot_z_derivative1_power2', 'rot_z_power2']\n",
    "\n",
    "more_columns = ['t_comp_cor_00', 't_comp_cor_01', 't_comp_cor_02', 't_comp_cor_03']\n",
    "\n",
    "columns = columns_n + more_columns\n",
    "len(columns)"
   ]
  },
  {
   "cell_type": "code",
   "execution_count": 29,
   "metadata": {},
   "outputs": [
    {
     "name": "stdout",
     "output_type": "stream",
     "text": [
      "Warning: Columns not found in sub-01_task-rest_acq-EPI_desc-confounds_timeseries.tsv: ['t_comp_cor_02', 't_comp_cor_03']\n",
      "na replaced in global_signal_derivative1\n",
      "na replaced in global_signal_derivative1_power2\n",
      "na replaced in trans_x_derivative1\n",
      "na replaced in trans_x_derivative1_power2\n",
      "na replaced in trans_y_derivative1\n",
      "na replaced in trans_y_derivative1_power2\n",
      "na replaced in trans_z_derivative1\n",
      "na replaced in trans_z_derivative1_power2\n",
      "na replaced in rot_x_derivative1\n",
      "na replaced in rot_x_derivative1_power2\n",
      "na replaced in rot_y_derivative1\n",
      "na replaced in rot_y_derivative1_power2\n",
      "na replaced in rot_z_derivative1\n",
      "na replaced in rot_z_derivative1_power2\n",
      "sub-01 done\n",
      "na replaced in global_signal_derivative1\n",
      "na replaced in global_signal_derivative1_power2\n",
      "na replaced in trans_x_derivative1\n",
      "na replaced in trans_x_derivative1_power2\n",
      "na replaced in trans_y_derivative1\n",
      "na replaced in trans_y_derivative1_power2\n",
      "na replaced in trans_z_derivative1\n",
      "na replaced in trans_z_derivative1_power2\n",
      "na replaced in rot_x_derivative1\n",
      "na replaced in rot_x_derivative1_power2\n",
      "na replaced in rot_y_derivative1\n",
      "na replaced in rot_y_derivative1_power2\n",
      "na replaced in rot_z_derivative1\n",
      "na replaced in rot_z_derivative1_power2\n",
      "sub-02 done\n",
      "na replaced in global_signal_derivative1\n",
      "na replaced in global_signal_derivative1_power2\n",
      "na replaced in trans_x_derivative1\n",
      "na replaced in trans_x_derivative1_power2\n",
      "na replaced in trans_y_derivative1\n",
      "na replaced in trans_y_derivative1_power2\n",
      "na replaced in trans_z_derivative1\n",
      "na replaced in trans_z_derivative1_power2\n",
      "na replaced in rot_x_derivative1\n",
      "na replaced in rot_x_derivative1_power2\n",
      "na replaced in rot_y_derivative1\n",
      "na replaced in rot_y_derivative1_power2\n",
      "na replaced in rot_z_derivative1\n",
      "na replaced in rot_z_derivative1_power2\n",
      "sub-03 done\n",
      "na replaced in global_signal_derivative1\n",
      "na replaced in global_signal_derivative1_power2\n",
      "na replaced in trans_x_derivative1\n",
      "na replaced in trans_x_derivative1_power2\n",
      "na replaced in trans_y_derivative1\n",
      "na replaced in trans_y_derivative1_power2\n",
      "na replaced in trans_z_derivative1\n",
      "na replaced in trans_z_derivative1_power2\n",
      "na replaced in rot_x_derivative1\n",
      "na replaced in rot_x_derivative1_power2\n",
      "na replaced in rot_y_derivative1\n",
      "na replaced in rot_y_derivative1_power2\n",
      "na replaced in rot_z_derivative1\n",
      "na replaced in rot_z_derivative1_power2\n",
      "sub-04 done\n",
      "na replaced in global_signal_derivative1\n",
      "na replaced in global_signal_derivative1_power2\n",
      "na replaced in trans_x_derivative1\n",
      "na replaced in trans_x_derivative1_power2\n",
      "na replaced in trans_y_derivative1\n",
      "na replaced in trans_y_derivative1_power2\n",
      "na replaced in trans_z_derivative1\n",
      "na replaced in trans_z_derivative1_power2\n",
      "na replaced in rot_x_derivative1\n",
      "na replaced in rot_x_derivative1_power2\n",
      "na replaced in rot_y_derivative1\n",
      "na replaced in rot_y_derivative1_power2\n",
      "na replaced in rot_z_derivative1\n",
      "na replaced in rot_z_derivative1_power2\n",
      "sub-05 done\n",
      "Warning: Columns not found in sub-06_task-rest_acq-EPI_desc-confounds_timeseries.tsv: ['t_comp_cor_02', 't_comp_cor_03']\n",
      "na replaced in global_signal_derivative1\n",
      "na replaced in global_signal_derivative1_power2\n",
      "na replaced in trans_x_derivative1\n",
      "na replaced in trans_x_derivative1_power2\n",
      "na replaced in trans_y_derivative1\n",
      "na replaced in trans_y_derivative1_power2\n",
      "na replaced in trans_z_derivative1\n",
      "na replaced in trans_z_derivative1_power2\n",
      "na replaced in rot_x_derivative1\n",
      "na replaced in rot_x_derivative1_power2\n",
      "na replaced in rot_y_derivative1\n",
      "na replaced in rot_y_derivative1_power2\n",
      "na replaced in rot_z_derivative1\n",
      "na replaced in rot_z_derivative1_power2\n",
      "sub-06 done\n",
      "na replaced in global_signal_derivative1\n",
      "na replaced in global_signal_derivative1_power2\n",
      "na replaced in trans_x_derivative1\n",
      "na replaced in trans_x_derivative1_power2\n",
      "na replaced in trans_y_derivative1\n",
      "na replaced in trans_y_derivative1_power2\n",
      "na replaced in trans_z_derivative1\n",
      "na replaced in trans_z_derivative1_power2\n",
      "na replaced in rot_x_derivative1\n",
      "na replaced in rot_x_derivative1_power2\n",
      "na replaced in rot_y_derivative1\n",
      "na replaced in rot_y_derivative1_power2\n",
      "na replaced in rot_z_derivative1\n",
      "na replaced in rot_z_derivative1_power2\n",
      "sub-07 done\n",
      "na replaced in global_signal_derivative1\n",
      "na replaced in global_signal_derivative1_power2\n",
      "na replaced in trans_x_derivative1\n",
      "na replaced in trans_x_derivative1_power2\n",
      "na replaced in trans_y_derivative1\n",
      "na replaced in trans_y_derivative1_power2\n",
      "na replaced in trans_z_derivative1\n",
      "na replaced in trans_z_derivative1_power2\n",
      "na replaced in rot_x_derivative1\n",
      "na replaced in rot_x_derivative1_power2\n",
      "na replaced in rot_y_derivative1\n",
      "na replaced in rot_y_derivative1_power2\n",
      "na replaced in rot_z_derivative1\n",
      "na replaced in rot_z_derivative1_power2\n",
      "sub-08 done\n",
      "na replaced in global_signal_derivative1\n",
      "na replaced in global_signal_derivative1_power2\n",
      "na replaced in trans_x_derivative1\n",
      "na replaced in trans_x_derivative1_power2\n",
      "na replaced in trans_y_derivative1\n",
      "na replaced in trans_y_derivative1_power2\n",
      "na replaced in trans_z_derivative1\n",
      "na replaced in trans_z_derivative1_power2\n",
      "na replaced in rot_x_derivative1\n",
      "na replaced in rot_x_derivative1_power2\n",
      "na replaced in rot_y_derivative1\n",
      "na replaced in rot_y_derivative1_power2\n",
      "na replaced in rot_z_derivative1\n",
      "na replaced in rot_z_derivative1_power2\n",
      "sub-09 done\n",
      "na replaced in global_signal_derivative1\n",
      "na replaced in global_signal_derivative1_power2\n",
      "na replaced in trans_x_derivative1\n",
      "na replaced in trans_x_derivative1_power2\n",
      "na replaced in trans_y_derivative1\n",
      "na replaced in trans_y_derivative1_power2\n",
      "na replaced in trans_z_derivative1\n",
      "na replaced in trans_z_derivative1_power2\n",
      "na replaced in rot_x_derivative1\n",
      "na replaced in rot_x_derivative1_power2\n",
      "na replaced in rot_y_derivative1\n",
      "na replaced in rot_y_derivative1_power2\n",
      "na replaced in rot_z_derivative1\n",
      "na replaced in rot_z_derivative1_power2\n",
      "sub-10 done\n",
      "na replaced in global_signal_derivative1\n",
      "na replaced in global_signal_derivative1_power2\n",
      "na replaced in trans_x_derivative1\n",
      "na replaced in trans_x_derivative1_power2\n",
      "na replaced in trans_y_derivative1\n",
      "na replaced in trans_y_derivative1_power2\n",
      "na replaced in trans_z_derivative1\n",
      "na replaced in trans_z_derivative1_power2\n",
      "na replaced in rot_x_derivative1\n",
      "na replaced in rot_x_derivative1_power2\n",
      "na replaced in rot_y_derivative1\n",
      "na replaced in rot_y_derivative1_power2\n",
      "na replaced in rot_z_derivative1\n",
      "na replaced in rot_z_derivative1_power2\n",
      "sub-11 done\n",
      "Warning: Columns not found in sub-12_task-rest_acq-EPI_desc-confounds_timeseries.tsv: ['t_comp_cor_02', 't_comp_cor_03']\n",
      "na replaced in global_signal_derivative1\n",
      "na replaced in global_signal_derivative1_power2\n",
      "na replaced in trans_x_derivative1\n",
      "na replaced in trans_x_derivative1_power2\n",
      "na replaced in trans_y_derivative1\n",
      "na replaced in trans_y_derivative1_power2\n",
      "na replaced in trans_z_derivative1\n",
      "na replaced in trans_z_derivative1_power2\n",
      "na replaced in rot_x_derivative1\n",
      "na replaced in rot_x_derivative1_power2\n",
      "na replaced in rot_y_derivative1\n",
      "na replaced in rot_y_derivative1_power2\n",
      "na replaced in rot_z_derivative1\n",
      "na replaced in rot_z_derivative1_power2\n",
      "sub-12 done\n",
      "na replaced in global_signal_derivative1\n",
      "na replaced in global_signal_derivative1_power2\n",
      "na replaced in trans_x_derivative1\n",
      "na replaced in trans_x_derivative1_power2\n",
      "na replaced in trans_y_derivative1\n",
      "na replaced in trans_y_derivative1_power2\n",
      "na replaced in trans_z_derivative1\n",
      "na replaced in trans_z_derivative1_power2\n",
      "na replaced in rot_x_derivative1\n",
      "na replaced in rot_x_derivative1_power2\n",
      "na replaced in rot_y_derivative1\n",
      "na replaced in rot_y_derivative1_power2\n",
      "na replaced in rot_z_derivative1\n",
      "na replaced in rot_z_derivative1_power2\n",
      "sub-13 done\n",
      "na replaced in global_signal_derivative1\n",
      "na replaced in global_signal_derivative1_power2\n",
      "na replaced in trans_x_derivative1\n",
      "na replaced in trans_x_derivative1_power2\n",
      "na replaced in trans_y_derivative1\n",
      "na replaced in trans_y_derivative1_power2\n",
      "na replaced in trans_z_derivative1\n",
      "na replaced in trans_z_derivative1_power2\n",
      "na replaced in rot_x_derivative1\n",
      "na replaced in rot_x_derivative1_power2\n",
      "na replaced in rot_y_derivative1\n",
      "na replaced in rot_y_derivative1_power2\n",
      "na replaced in rot_z_derivative1\n",
      "na replaced in rot_z_derivative1_power2\n",
      "sub-15 done\n",
      "na replaced in global_signal_derivative1\n",
      "na replaced in global_signal_derivative1_power2\n",
      "na replaced in trans_x_derivative1\n",
      "na replaced in trans_x_derivative1_power2\n",
      "na replaced in trans_y_derivative1\n",
      "na replaced in trans_y_derivative1_power2\n",
      "na replaced in trans_z_derivative1\n",
      "na replaced in trans_z_derivative1_power2\n",
      "na replaced in rot_x_derivative1\n",
      "na replaced in rot_x_derivative1_power2\n",
      "na replaced in rot_y_derivative1\n",
      "na replaced in rot_y_derivative1_power2\n",
      "na replaced in rot_z_derivative1\n",
      "na replaced in rot_z_derivative1_power2\n",
      "sub-16 done\n",
      "na replaced in global_signal_derivative1\n",
      "na replaced in global_signal_derivative1_power2\n",
      "na replaced in trans_x_derivative1\n",
      "na replaced in trans_x_derivative1_power2\n",
      "na replaced in trans_y_derivative1\n",
      "na replaced in trans_y_derivative1_power2\n",
      "na replaced in trans_z_derivative1\n",
      "na replaced in trans_z_derivative1_power2\n",
      "na replaced in rot_x_derivative1\n",
      "na replaced in rot_x_derivative1_power2\n",
      "na replaced in rot_y_derivative1\n",
      "na replaced in rot_y_derivative1_power2\n",
      "na replaced in rot_z_derivative1\n",
      "na replaced in rot_z_derivative1_power2\n",
      "sub-17 done\n",
      "na replaced in global_signal_derivative1\n",
      "na replaced in global_signal_derivative1_power2\n",
      "na replaced in trans_x_derivative1\n",
      "na replaced in trans_x_derivative1_power2\n",
      "na replaced in trans_y_derivative1\n",
      "na replaced in trans_y_derivative1_power2\n",
      "na replaced in trans_z_derivative1\n",
      "na replaced in trans_z_derivative1_power2\n",
      "na replaced in rot_x_derivative1\n",
      "na replaced in rot_x_derivative1_power2\n",
      "na replaced in rot_y_derivative1\n",
      "na replaced in rot_y_derivative1_power2\n",
      "na replaced in rot_z_derivative1\n",
      "na replaced in rot_z_derivative1_power2\n",
      "sub-18 done\n"
     ]
    },
    {
     "name": "stdout",
     "output_type": "stream",
     "text": [
      "Warning: Columns not found in sub-19_task-rest_acq-EPI_desc-confounds_timeseries.tsv: ['t_comp_cor_02', 't_comp_cor_03']\n",
      "na replaced in global_signal_derivative1\n",
      "na replaced in global_signal_derivative1_power2\n",
      "na replaced in trans_x_derivative1\n",
      "na replaced in trans_x_derivative1_power2\n",
      "na replaced in trans_y_derivative1\n",
      "na replaced in trans_y_derivative1_power2\n",
      "na replaced in trans_z_derivative1\n",
      "na replaced in trans_z_derivative1_power2\n",
      "na replaced in rot_x_derivative1\n",
      "na replaced in rot_x_derivative1_power2\n",
      "na replaced in rot_y_derivative1\n",
      "na replaced in rot_y_derivative1_power2\n",
      "na replaced in rot_z_derivative1\n",
      "na replaced in rot_z_derivative1_power2\n",
      "sub-19 done\n",
      "na replaced in global_signal_derivative1\n",
      "na replaced in global_signal_derivative1_power2\n",
      "na replaced in trans_x_derivative1\n",
      "na replaced in trans_x_derivative1_power2\n",
      "na replaced in trans_y_derivative1\n",
      "na replaced in trans_y_derivative1_power2\n",
      "na replaced in trans_z_derivative1\n",
      "na replaced in trans_z_derivative1_power2\n",
      "na replaced in rot_x_derivative1\n",
      "na replaced in rot_x_derivative1_power2\n",
      "na replaced in rot_y_derivative1\n",
      "na replaced in rot_y_derivative1_power2\n",
      "na replaced in rot_z_derivative1\n",
      "na replaced in rot_z_derivative1_power2\n",
      "sub-21 done\n",
      "na replaced in global_signal_derivative1\n",
      "na replaced in global_signal_derivative1_power2\n",
      "na replaced in trans_x_derivative1\n",
      "na replaced in trans_x_derivative1_power2\n",
      "na replaced in trans_y_derivative1\n",
      "na replaced in trans_y_derivative1_power2\n",
      "na replaced in trans_z_derivative1\n",
      "na replaced in trans_z_derivative1_power2\n",
      "na replaced in rot_x_derivative1\n",
      "na replaced in rot_x_derivative1_power2\n",
      "na replaced in rot_y_derivative1\n",
      "na replaced in rot_y_derivative1_power2\n",
      "na replaced in rot_z_derivative1\n",
      "na replaced in rot_z_derivative1_power2\n",
      "sub-22 done\n",
      "Warning: Columns not found in sub-23_task-rest_acq-EPI_desc-confounds_timeseries.tsv: ['t_comp_cor_03']\n",
      "na replaced in global_signal_derivative1\n",
      "na replaced in global_signal_derivative1_power2\n",
      "na replaced in trans_x_derivative1\n",
      "na replaced in trans_x_derivative1_power2\n",
      "na replaced in trans_y_derivative1\n",
      "na replaced in trans_y_derivative1_power2\n",
      "na replaced in trans_z_derivative1\n",
      "na replaced in trans_z_derivative1_power2\n",
      "na replaced in rot_x_derivative1\n",
      "na replaced in rot_x_derivative1_power2\n",
      "na replaced in rot_y_derivative1\n",
      "na replaced in rot_y_derivative1_power2\n",
      "na replaced in rot_z_derivative1\n",
      "na replaced in rot_z_derivative1_power2\n",
      "sub-23 done\n",
      "na replaced in global_signal_derivative1\n",
      "na replaced in global_signal_derivative1_power2\n",
      "na replaced in trans_x_derivative1\n",
      "na replaced in trans_x_derivative1_power2\n",
      "na replaced in trans_y_derivative1\n",
      "na replaced in trans_y_derivative1_power2\n",
      "na replaced in trans_z_derivative1\n",
      "na replaced in trans_z_derivative1_power2\n",
      "na replaced in rot_x_derivative1\n",
      "na replaced in rot_x_derivative1_power2\n",
      "na replaced in rot_y_derivative1\n",
      "na replaced in rot_y_derivative1_power2\n",
      "na replaced in rot_z_derivative1\n",
      "na replaced in rot_z_derivative1_power2\n",
      "sub-24 done\n",
      "Warning: Columns not found in sub-25_task-rest_acq-EPI_desc-confounds_timeseries.tsv: ['t_comp_cor_03']\n",
      "na replaced in global_signal_derivative1\n",
      "na replaced in global_signal_derivative1_power2\n",
      "na replaced in trans_x_derivative1\n",
      "na replaced in trans_x_derivative1_power2\n",
      "na replaced in trans_y_derivative1\n",
      "na replaced in trans_y_derivative1_power2\n",
      "na replaced in trans_z_derivative1\n",
      "na replaced in trans_z_derivative1_power2\n",
      "na replaced in rot_x_derivative1\n",
      "na replaced in rot_x_derivative1_power2\n",
      "na replaced in rot_y_derivative1\n",
      "na replaced in rot_y_derivative1_power2\n",
      "na replaced in rot_z_derivative1\n",
      "na replaced in rot_z_derivative1_power2\n",
      "sub-25 done\n",
      "na replaced in global_signal_derivative1\n",
      "na replaced in global_signal_derivative1_power2\n",
      "na replaced in trans_x_derivative1\n",
      "na replaced in trans_x_derivative1_power2\n",
      "na replaced in trans_y_derivative1\n",
      "na replaced in trans_y_derivative1_power2\n",
      "na replaced in trans_z_derivative1\n",
      "na replaced in trans_z_derivative1_power2\n",
      "na replaced in rot_x_derivative1\n",
      "na replaced in rot_x_derivative1_power2\n",
      "na replaced in rot_y_derivative1\n",
      "na replaced in rot_y_derivative1_power2\n",
      "na replaced in rot_z_derivative1\n",
      "na replaced in rot_z_derivative1_power2\n",
      "sub-26 done\n",
      "na replaced in global_signal_derivative1\n",
      "na replaced in global_signal_derivative1_power2\n",
      "na replaced in trans_x_derivative1\n",
      "na replaced in trans_x_derivative1_power2\n",
      "na replaced in trans_y_derivative1\n",
      "na replaced in trans_y_derivative1_power2\n",
      "na replaced in trans_z_derivative1\n",
      "na replaced in trans_z_derivative1_power2\n",
      "na replaced in rot_x_derivative1\n",
      "na replaced in rot_x_derivative1_power2\n",
      "na replaced in rot_y_derivative1\n",
      "na replaced in rot_y_derivative1_power2\n",
      "na replaced in rot_z_derivative1\n",
      "na replaced in rot_z_derivative1_power2\n",
      "sub-27 done\n",
      "na replaced in global_signal_derivative1\n",
      "na replaced in global_signal_derivative1_power2\n",
      "na replaced in trans_x_derivative1\n",
      "na replaced in trans_x_derivative1_power2\n",
      "na replaced in trans_y_derivative1\n",
      "na replaced in trans_y_derivative1_power2\n",
      "na replaced in trans_z_derivative1\n",
      "na replaced in trans_z_derivative1_power2\n",
      "na replaced in rot_x_derivative1\n",
      "na replaced in rot_x_derivative1_power2\n",
      "na replaced in rot_y_derivative1\n",
      "na replaced in rot_y_derivative1_power2\n",
      "na replaced in rot_z_derivative1\n",
      "na replaced in rot_z_derivative1_power2\n",
      "sub-28 done\n",
      "na replaced in global_signal_derivative1\n",
      "na replaced in global_signal_derivative1_power2\n",
      "na replaced in trans_x_derivative1\n",
      "na replaced in trans_x_derivative1_power2\n",
      "na replaced in trans_y_derivative1\n",
      "na replaced in trans_y_derivative1_power2\n",
      "na replaced in trans_z_derivative1\n",
      "na replaced in trans_z_derivative1_power2\n",
      "na replaced in rot_x_derivative1\n",
      "na replaced in rot_x_derivative1_power2\n",
      "na replaced in rot_y_derivative1\n",
      "na replaced in rot_y_derivative1_power2\n",
      "na replaced in rot_z_derivative1\n",
      "na replaced in rot_z_derivative1_power2\n",
      "sub-30 done\n",
      "na replaced in global_signal_derivative1\n",
      "na replaced in global_signal_derivative1_power2\n",
      "na replaced in trans_x_derivative1\n",
      "na replaced in trans_x_derivative1_power2\n",
      "na replaced in trans_y_derivative1\n",
      "na replaced in trans_y_derivative1_power2\n",
      "na replaced in trans_z_derivative1\n",
      "na replaced in trans_z_derivative1_power2\n",
      "na replaced in rot_x_derivative1\n",
      "na replaced in rot_x_derivative1_power2\n",
      "na replaced in rot_y_derivative1\n",
      "na replaced in rot_y_derivative1_power2\n",
      "na replaced in rot_z_derivative1\n",
      "na replaced in rot_z_derivative1_power2\n",
      "sub-31 done\n",
      "na replaced in global_signal_derivative1\n",
      "na replaced in global_signal_derivative1_power2\n",
      "na replaced in trans_x_derivative1\n",
      "na replaced in trans_x_derivative1_power2\n",
      "na replaced in trans_y_derivative1\n",
      "na replaced in trans_y_derivative1_power2\n",
      "na replaced in trans_z_derivative1\n",
      "na replaced in trans_z_derivative1_power2\n",
      "na replaced in rot_x_derivative1\n",
      "na replaced in rot_x_derivative1_power2\n",
      "na replaced in rot_y_derivative1\n",
      "na replaced in rot_y_derivative1_power2\n",
      "na replaced in rot_z_derivative1\n",
      "na replaced in rot_z_derivative1_power2\n",
      "sub-32 done\n",
      "Warning: Columns not found in sub-33_task-rest_acq-EPI_desc-confounds_timeseries.tsv: ['global_signal', 'global_signal_derivative1', 'global_signal_derivative1_power2', 'global_signal_power2', 'csf', 'white_matter', 'tcompcor', 'cosine00', 'cosine01', 'cosine02', 'cosine03', 'trans_x', 'trans_x_derivative1', 'trans_x_power2', 'trans_x_derivative1_power2', 'trans_y', 'trans_y_derivative1', 'trans_y_derivative1_power2', 'trans_y_power2', 'trans_z', 'trans_z_derivative1', 'trans_z_derivative1_power2', 'trans_z_power2', 'rot_x', 'rot_x_derivative1', 'rot_x_power2', 'rot_x_derivative1_power2', 'rot_y', 'rot_y_derivative1', 'rot_y_power2', 'rot_y_derivative1_power2', 'rot_z', 'rot_z_derivative1', 'rot_z_derivative1_power2', 'rot_z_power2', 't_comp_cor_00', 't_comp_cor_01', 't_comp_cor_02', 't_comp_cor_03']\n",
      "sub-33 done\n"
     ]
    }
   ],
   "source": [
    "# filter confounds for each subject\n",
    "pth = '/home/lisz/Desktop/Time_project/time_fmri/data/derivatives/preprocess'\n",
    "\n",
    "for sub in sub_list:\n",
    "    # open data folder and create full_df which contains \n",
    "    for root,dirs,files in os.walk(os.path.join(pth, sub, 'func')):\n",
    "        for file in files:\n",
    "            if file.endswith(\"_task-rest_acq-EPI_desc-confounds_timeseries.tsv\"):\n",
    "                file_path = os.path.join(root, file)\n",
    "                df = pd.read_csv(file_path, sep='\\t')\n",
    "\n",
    "                # include only those columns that are present in the df\n",
    "                common_columns = [col for col in columns if col in df.columns]\n",
    "                # columns from the list which are not in df\n",
    "                not_found_columns = [col for col in columns if col not in df.columns]\n",
    "\n",
    "                # Print columns not found in the DataFrame\n",
    "                if not_found_columns:\n",
    "                    print(f\"Warning: Columns not found in {file}: {not_found_columns}\")\n",
    "\n",
    "                # Filter DataFrame based on existing columns\n",
    "                new_df = df[common_columns]\n",
    "                ### replace n/a values in the first row with a mean of the column\n",
    "                # https://neurostars.org/t/n-a-values-in-confounds-tsv-file/16882\n",
    "                # Iterate over each column\n",
    "                for column in new_df.columns:\n",
    "                    # Check if 'n/a' is present in the first row of the current column\n",
    "                    if pd.isna(new_df.at[0, column]):\n",
    "                    # Replace 'n/a' with the column mean for the current column\n",
    "                        print(f'na replaced in {column}')\n",
    "                        new_df.at[0, column] = new_df[column].mean()\n",
    "                \n",
    "                output_file = os.path.join(pth, sub, 'func', f'{sub}_task-rest_acq-EPI_desc-confounds_timeseries-filtered-means.tsv')\n",
    "                new_df.to_csv(output_file, sep='\\t', index=False, header=False)\n",
    "                print(f'{sub} done')"
   ]
  },
  {
   "cell_type": "markdown",
   "metadata": {},
   "source": [
    "fsl_regfilt -i /home/lisz/Desktop/Time_project/time_fmri/data/derivatives/preprocess/sub-31/func/sub-31_task-rest_acq-EPI_space-MNI152NLin2009cAsym_desc-preproc_bold_2mm.nii.gz -o /home/lisz/Desktop/Time_project/time_fmri/data/derivatives/preprocess/sub-31/func/sub-31_task-rest_acq-EPI_space-MNI152NLin2009cAsym_desc-preproc_bold_2mm-regfilt.nii.gz -d /home/lisz/Desktop/Time_project/time_fmri/data/derivatives/preprocess/sub-31/func/sub-31_task-rest_acq-EPI_desc-confounds_timeseries-filtered-means.tsv\n",
    "vector::_M_range_check\n",
    "\n",
    "this works: fsl_regfilt -i /home/lisz/Desktop/Time_project/time_fmri/data/derivatives/preprocess/sub-32/func/sub-32_task-rest_acq-EPI_space-MNI152NLin2009cAsym_desc-preproc_bold_2mm.nii.gz -o /home/lisz/Desktop/Time_project/time_fmri/data/derivatives/preprocess/sub-32/func/sub-32_task-rest_acq-EPI_space-MNI152NLin2009cAsym_desc-preproc_bold_2mm-regfilt.nii.gz -d /home/lisz/Desktop/Time_project/time_fmri/data/derivatives/preprocess/sub-32/func/sub-32_task-rest_acq-EPI_desc-confounds_timeseries-filtered-means.tsv -f 1,2,3,4,5,6,7,8,9,10,11,12,13,14,15,16,17,18,19,20,21,22,23,24,25,26,27,28,29,30,31,32,33,34,35,36,37,38,39"
   ]
  },
  {
   "cell_type": "code",
   "execution_count": null,
   "metadata": {},
   "outputs": [],
   "source": [
    "## automatized version in bash\n",
    "\n",
    "DATA_DIR=/home/lisz/Desktop/Time_project/time_fmri/data/derivatives/preprocess\n",
    "\n",
    "SUB_LIST=(\"sub-01\" \"sub-02\" \"sub-03\" \n",
    "            \"sub-04\" \"sub-05\" \"sub-06\" \n",
    "            \"sub-07\" \"sub-08\" \"sub-09\" \n",
    "            \"sub-10\" \"sub-11\" \"sub-12\" \n",
    "            \"sub-13\" \"sub-15\" \"sub-16\" \n",
    "            \"sub-17\" \"sub-18\" \"sub-19\" \n",
    "            \"sub-21\" \"sub-22\" \"sub-23\" \n",
    "            \"sub-24\" \"sub-25\" \"sub-26\" \n",
    "            \"sub-27\" \"sub-28\" \"sub-30\" \n",
    "            \"sub-31\" \"sub-32\" \"sub-33\")  \n",
    "\n",
    "for sub in \"${SUB_LIST[@]}\"; do\n",
    "    INPUT_FILE=\"${DATA_DIR}/${sub}/func/${sub}_task-rest_acq-EPI_space-MNI152NLin2009cAsym_desc-preproc_bold_2mm.nii.gz\"\n",
    "    OUTPUT_FILE=\"${DATA_DIR}/${sub}/func/${sub}_task-rest_acq-EPI_space-MNI152NLin2009cAsym_desc-preproc_bold_2mm-regfilt.nii.gz\"\n",
    "    CONFOUNDS_FILE=\"${DATA_DIR}/${sub}/func/${sub}_task-rest_acq-EPI_desc-confounds_timeseries-filtered-means.tsv\"\n",
    "    \n",
    "    # Run fsl_regfilt command\n",
    "    fsl_regfilt -i \"$INPUT_FILE\" -o \"$OUTPUT_FILE\" -d \"$CONFOUNDS_FILE\" -f 1,2,3,4,5,6,7,8,9,10,11,12,13,14,15,16,17,18,19,20,21,22,23,24,25,26,27,28,29,30,31,32,33,34,35,36,37,38,39\n",
    "\n",
    "    echo \"Processing $sub completed\"\n",
    "done"
   ]
  },
  {
   "cell_type": "markdown",
   "metadata": {},
   "source": [
    "## Extract time series\n",
    "## 426 ROIs in HCPex_LookUpTable.txt atlas file "
   ]
  },
  {
   "cell_type": "code",
   "execution_count": 49,
   "metadata": {},
   "outputs": [],
   "source": [
    "# calculate means of each volume inside the brain\n",
    "# brain region is an integer from the atlas\n",
    "def calculate_means(brain_region,img_dataset,atlas_name):\n",
    "    means_of_volumes = []\n",
    "\n",
    "    timing = int(img_dataset.shape[3])\n",
    "    for t in range(timing):\n",
    "        volume = img_dataset[:, :, :, t]# Extract the volume at time point t\n",
    "        masked_volume = np.mean(volume[atlas_name == brain_region])\n",
    "        means_of_volumes.append(masked_volume)\n",
    "    #print(len(means_of_volumes))\n",
    "    #print(int(img_dataset.shape[3]))\n",
    "    return means_of_volumes"
   ]
  },
  {
   "cell_type": "code",
   "execution_count": 265,
   "metadata": {},
   "outputs": [],
   "source": [
    "# this code saves the roi per each sub in indivisual file\n",
    "pth = '/home/lisz/Desktop/Time_project/time_fmri/data/derivatives/preprocess'\n",
    "\n",
    "#file_name = f'{sub}_task-rest_acq-EPI_space-MNI152NLin2009cAsym_desc-preproc_bold_2mm.nii.gz'\n",
    "\n",
    "atlas_file = '/home/lisz/Desktop/fmri_atlases/HCPex_2mm_resampled.nii.gz'\n",
    "atlas_HCP = nib.load(atlas_file)\n",
    "atlas_file = atlas_HCP.get_fdata()\n",
    "#sub_list = 'sub-01'\n",
    "\n",
    "for sub in sub_list:\n",
    "    # open data folder and create full_df which contains \n",
    "    for root,dirs,files in os.walk(os.path.join(pth, sub, 'func')):\n",
    "        for file in files:\n",
    "            if file.endswith(\"_task-rest_acq-EPI_space-MNI152NLin2009cAsym_desc-preproc_bold_2mm-regfilt.nii.gz\"):\n",
    "                file_path = os.path.join(root, file)\n",
    "                \n",
    "                # load nifti\n",
    "                img = nib.load(file_path)\n",
    "                img_data = img.get_fdata()\n",
    "                df = pd.DataFrame()\n",
    "                for i in range (427):\n",
    "                    # check the shorter version below\n",
    "                    #roi = np.mean(img_dataset[atlas_file == i])\n",
    "                    roi = calculate_means(i, img_data, atlas_file)\n",
    "                    # Add a column to the DataFrame with ROI means\n",
    "                    df[f'{i}'] = roi\n",
    "                                # Save the DataFrame to a text file\n",
    "                output_file = os.path.join(root, f'{sub}_roi.txt')\n",
    "                df.to_csv(output_file, sep='\\t', index=False, header=False)\n",
    "                print(f'{sub} done')"
   ]
  },
  {
   "cell_type": "markdown",
   "metadata": {},
   "source": [
    "## temporal filtering - butterworth filter"
   ]
  },
  {
   "cell_type": "code",
   "execution_count": 78,
   "metadata": {},
   "outputs": [
    {
     "name": "stdout",
     "output_type": "stream",
     "text": [
      "sub-01 done\n",
      "sub-02 done\n",
      "sub-03 done\n",
      "sub-04 done\n",
      "sub-05 done\n",
      "sub-06 done\n",
      "sub-07 done\n",
      "sub-08 done\n",
      "sub-09 done\n",
      "sub-10 done\n",
      "sub-11 done\n",
      "sub-12 done\n",
      "sub-13 done\n",
      "sub-15 done\n",
      "sub-16 done\n",
      "sub-17 done\n",
      "sub-18 done\n",
      "sub-19 done\n",
      "sub-21 done\n",
      "sub-22 done\n",
      "sub-23 done\n",
      "sub-24 done\n",
      "sub-25 done\n",
      "sub-26 done\n",
      "sub-27 done\n",
      "sub-28 done\n",
      "sub-30 done\n",
      "sub-31 done\n",
      "sub-32 done\n",
      "sub-33 done\n"
     ]
    }
   ],
   "source": [
    "for sub in sub_list:\n",
    "        # open data folder and create full_df which contains \n",
    "    for root,dirs,files in os.walk(os.path.join(pth, sub, 'func')):\n",
    "        for file in files:\n",
    "            if file.endswith(\"_roi.txt\"):\n",
    "                file_path = os.path.join(root, file)\n",
    "                df = pd.read_csv(file_path, delimiter='\\t', header=None)\n",
    "                new_df = pd.DataFrame()\n",
    "                for idx in range(df.shape[1]):\n",
    "                    signal_column = df.iloc[:, idx].values\n",
    "                    f_tcs = butterworth(signal_column, sampling_rate=0.5, high_pass=0.01, low_pass=0.1)\n",
    "                    new_df[idx] = f_tcs\n",
    "                output_file = os.path.join(root, f'{sub}_roi-butterfilter.txt')\n",
    "                new_df.to_csv(output_file, sep='\\t', index=False,header=False)\n",
    "                print(f'{sub} done')"
   ]
  },
  {
   "cell_type": "markdown",
   "metadata": {},
   "source": [
    "## autocorrellation function and intrinsic timecsales"
   ]
  },
  {
   "cell_type": "code",
   "execution_count": 206,
   "metadata": {},
   "outputs": [],
   "source": [
    "import os\n",
    "import numpy as np\n",
    "from statsmodels.tsa.stattools import acf\n",
    "\n",
    "tr = 2\n",
    "\n",
    "\n",
    "def tcs_timescale(x):\n",
    "    '''\n",
    "    gets the sum of ACF for positive bins\n",
    "    '''\n",
    "    # returns array of 10 correlations\n",
    "    # if I set it to 10, 10 subjects do break\n",
    "    # if I set 13, one sub breaks\n",
    "    ac = acf(x, adjusted=True, nlags=14)\n",
    "    #the first element less than or equal to zero is at index...\n",
    "    idx = np.where(ac<=0)[0][0] \n",
    "    # returns a subarray that includes elements from the beginning \n",
    "    #up to (but not including) the element at index idX, then multiplied on X\n",
    "    return np.sum(ac[0:idx]) * tr\n",
    "    \n",
    "def subject_timescale(sub):\n",
    "    '''\n",
    "    calculates the acf for all roi\n",
    "    '''\n",
    "    tcs = np.loadtxt(os.path.join(pth, sub, 'func', f'{sub}_roi-butterfilter.txt'))\n",
    "    tcs = tcs[:, 1:]  # Drop the first column cause it is \"unknown\"\n",
    "    # get number of columns\n",
    "    n_rois = tcs.shape[1]\n",
    "    \n",
    "    timescales = np.zeros(n_rois)\n",
    "    for ii in range(n_rois):\n",
    "        timescales[ii] = tcs_timescale(tcs[:, ii])\n",
    "    return timescales"
   ]
  },
  {
   "cell_type": "code",
   "execution_count": 223,
   "metadata": {},
   "outputs": [],
   "source": [
    "pth_beh = \"/home/lisz/Desktop/Time_project/time_fmri/behavioral_data\"\n",
    "df_list = []\n",
    "for sub in sub_list:    \n",
    "    df = pd.read_csv(pth_beh+f\"/{sub}/{sub}_all_runs.csv\")\n",
    "    df_list.append(df)\n",
    "    \n",
    "df_all = pd.concat(df_list)\n",
    "df_all = df_all.dropna(subset=['key_resp_rt'])\n",
    "\n",
    "'''\n",
    "looking at behavioral data, drop those which are marked\n",
    "as \"excluded\"\n",
    "'''\n",
    "\n",
    "df_all = df_all[df_all['exclusion'] != 'exclude']\n",
    "mean_rt = df_all.groupby(\"participant\")[\"key_resp_rt\"].mean().reset_index()\n",
    "beh_replies = mean_rt['key_resp_rt']"
   ]
  },
  {
   "cell_type": "code",
   "execution_count": 232,
   "metadata": {},
   "outputs": [],
   "source": [
    "def list_timescale_roi(roi_n):\n",
    "    \n",
    "    list_timescales = []\n",
    "\n",
    "    for sub in sub_list:\n",
    "        #print(sub)\n",
    "        a = subject_timescale(sub)\n",
    "        roi = a[roi_n]\n",
    "        list_timescales.append(roi)\n",
    "    return list_timescales"
   ]
  },
  {
   "cell_type": "code",
   "execution_count": 235,
   "metadata": {},
   "outputs": [
    {
     "name": "stderr",
     "output_type": "stream",
     "text": [
      "/home/lisz/.pyenv/versions/3.6.10/lib/python3.6/site-packages/statsmodels/tsa/stattools.py:671: FutureWarning: fft=True will become the default after the release of the 0.12 release of statsmodels. To suppress this warning, explicitly set fft=False.\n",
      "  FutureWarning,\n"
     ]
    }
   ],
   "source": [
    "roi_dataset = list_timescale_roi(1)"
   ]
  },
  {
   "cell_type": "code",
   "execution_count": 236,
   "metadata": {},
   "outputs": [
    {
     "data": {
      "text/html": [
       "<div>\n",
       "<style scoped>\n",
       "    .dataframe tbody tr th:only-of-type {\n",
       "        vertical-align: middle;\n",
       "    }\n",
       "\n",
       "    .dataframe tbody tr th {\n",
       "        vertical-align: top;\n",
       "    }\n",
       "\n",
       "    .dataframe thead th {\n",
       "        text-align: right;\n",
       "    }\n",
       "</style>\n",
       "<table border=\"1\" class=\"dataframe\">\n",
       "  <thead>\n",
       "    <tr style=\"text-align: right;\">\n",
       "      <th></th>\n",
       "      <th>n</th>\n",
       "      <th>r</th>\n",
       "      <th>CI95%</th>\n",
       "      <th>p-val</th>\n",
       "      <th>BF10</th>\n",
       "      <th>power</th>\n",
       "    </tr>\n",
       "  </thead>\n",
       "  <tbody>\n",
       "    <tr>\n",
       "      <th>pearson</th>\n",
       "      <td>30</td>\n",
       "      <td>0.148</td>\n",
       "      <td>[-0.22, 0.48]</td>\n",
       "      <td>0.434</td>\n",
       "      <td>0.304</td>\n",
       "      <td>0.123</td>\n",
       "    </tr>\n",
       "  </tbody>\n",
       "</table>\n",
       "</div>"
      ],
      "text/plain": [
       "          n      r          CI95%  p-val   BF10  power\n",
       "pearson  30  0.148  [-0.22, 0.48]  0.434  0.304  0.123"
      ]
     },
     "execution_count": 236,
     "metadata": {},
     "output_type": "execute_result"
    }
   ],
   "source": [
    "pg.corr(beh_replies, roi_dataset).round(3)"
   ]
  },
  {
   "cell_type": "markdown",
   "metadata": {},
   "source": [
    "- Transition zone: posterior insula, opercular cortex (only left, maybe visual), caudate, putamen, cerebellum, frontal pole, frontal orbital cortex, intracalcarine cortex, paracingulate gyrus, cuneal cortex\n",
    "- Plateau: frontal medial cortex, \n",
    "- Standard: suprmarginal gyrus, lateral occipital cortex, temporal occipital fusiform cortex, middle frontal gyrus, precentral gyrus"
   ]
  },
  {
   "cell_type": "code",
   "execution_count": 327,
   "metadata": {
    "scrolled": true
   },
   "outputs": [
    {
     "name": "stdout",
     "output_type": "stream",
     "text": [
      "ROI 33 - Correlation: -0.439, p-value: 0.015\n",
      "ROI 48 - Correlation: -0.532, p-value: 0.002\n",
      "ROI 66 - Correlation: -0.424, p-value: 0.020\n",
      "ROI 78 - Correlation: -0.462, p-value: 0.010\n",
      "ROI 114 - Correlation: 0.470, p-value: 0.009\n",
      "ROI 156 - Correlation: -0.431, p-value: 0.017\n",
      "ROI 160 - Correlation: -0.427, p-value: 0.019\n",
      "ROI 161 - Correlation: -0.382, p-value: 0.037\n",
      "ROI 178 - Correlation: 0.386, p-value: 0.035\n",
      "ROI 179 - Correlation: 0.434, p-value: 0.017\n",
      "ROI 199 - Correlation: 0.426, p-value: 0.019\n",
      "ROI 235 - Correlation: -0.416, p-value: 0.022\n",
      "ROI 257 - Correlation: -0.386, p-value: 0.035\n",
      "ROI 294 - Correlation: 0.399, p-value: 0.029\n",
      "ROI 319 - Correlation: -0.389, p-value: 0.034\n",
      "ROI 331 - Correlation: -0.528, p-value: 0.003\n",
      "ROI 333 - Correlation: -0.425, p-value: 0.019\n",
      "ROI 347 - Correlation: 0.424, p-value: 0.020\n",
      "ROI 358 - Correlation: -0.381, p-value: 0.038\n",
      "ROI 418 - Correlation: -0.380, p-value: 0.038\n"
     ]
    }
   ],
   "source": [
    "# Function to loop through ROIs and perform correlation analysis\n",
    "p_values = []\n",
    "for roi_n in range(426):  # cause there are 426 ROIs\n",
    "    roi_dataset = list_timescale_roi(roi_n)\n",
    "    corr_result = pg.corr(beh_replies, roi_dataset)\n",
    "    \n",
    "    p_values.append(corr_result['p-val'].values[0])\n",
    "    \n",
    "    if corr_result['p-val'].values[0] < 0.05:  \n",
    "        print(f\"ROI {roi_n} - Correlation: {corr_result['r'].values[0]:.3f}, p-value: {corr_result['p-val'].values[0]:.3f}\")\n",
    "    #else:\n",
    "        #print(roi_n)"
   ]
  },
  {
   "cell_type": "code",
   "execution_count": 328,
   "metadata": {},
   "outputs": [
    {
     "data": {
      "text/plain": [
       "426"
      ]
     },
     "execution_count": 328,
     "metadata": {},
     "output_type": "execute_result"
    }
   ],
   "source": [
    "len(p_values)"
   ]
  },
  {
   "cell_type": "code",
   "execution_count": 373,
   "metadata": {},
   "outputs": [],
   "source": [
    "# multiple comparison correction\n",
    "higher_values_fdr = multipletests(p_values, method='fdr_bh', alpha=0.05)[1]"
   ]
  },
  {
   "cell_type": "code",
   "execution_count": 374,
   "metadata": {},
   "outputs": [
    {
     "data": {
      "text/plain": [
       "array([], dtype=float64)"
      ]
     },
     "execution_count": 374,
     "metadata": {},
     "output_type": "execute_result"
    }
   ],
   "source": [
    "higher_values_fdr[higher_values_fdr < 0.05]"
   ]
  },
  {
   "cell_type": "markdown",
   "metadata": {},
   "source": [
    "### Remember that 0 equal to 1!\n",
    "1. 33 34\tVentral_Area_24d_L\n",
    "2. 48 49\tFrontal_Opercular_Area_1_L\n",
    "3. 66 67\tArea_TA2_L\n",
    "4. 78 79\tPosterior_Insular_Area_2_L\n",
    "5. 114 115\tArea_PFm_Complex_L\n",
    "6. 156 157\tOrbital_Frontal_Complex_L\n",
    "7. 160 161\tArea_47l_(47_lateral)_L\n",
    "8. 161 162\tArea_anterior_47r_L\n",
    "9. 178 179\tSuperior_6-8_Transitional_Area_L\n",
    "10. 179 180\tSuperior_Frontal_Language_Area_L\n",
    "11. 199 200\tArea_Lateral_Occipital_2_R\n",
    "12. 235 236\tMedial_Belt_Complex_R\n",
    "13. 257 258\tArea_Posterior_Insular_1_R\n",
    "14. 294 295\tArea_PFm_Complex_R\n",
    "15. 319 320\tArea_a24_R - a narrow strip of anterior cingulate cortex\n",
    "16. 331 332\tArea_11l_R - a portion of the orbital gyri\n",
    "17. 333 334\tArea_47m_R - somewhere prefrontal\n",
    "18. 347 348\tArea_46_R - \n",
    "19. 358 359\tSuperior_6-8_Transitional_Area_R\n",
    "20. 418 419\tGlobus_pallidus_internalis_R"
   ]
  },
  {
   "cell_type": "code",
   "execution_count": 393,
   "metadata": {},
   "outputs": [
    {
     "data": {
      "text/plain": [
       "20"
      ]
     },
     "execution_count": 393,
     "metadata": {},
     "output_type": "execute_result"
    }
   ],
   "source": [
    "list_roi = [33, 48, 66, 78, 114, 156, 160, 161,\n",
    "            178, 179, 199, 235, 257, 294, 319,\n",
    "            331, 333, 347, 358, 418]\n",
    "len(list_roi)"
   ]
  },
  {
   "cell_type": "code",
   "execution_count": 394,
   "metadata": {},
   "outputs": [],
   "source": [
    "atlas_to_plot = np.zeros_like(atlas_file)"
   ]
  },
  {
   "cell_type": "code",
   "execution_count": 395,
   "metadata": {},
   "outputs": [
    {
     "name": "stderr",
     "output_type": "stream",
     "text": [
      "/home/lisz/.pyenv/versions/3.6.10/lib/python3.6/site-packages/statsmodels/tsa/stattools.py:671: FutureWarning: fft=True will become the default after the release of the 0.12 release of statsmodels. To suppress this warning, explicitly set fft=False.\n",
      "  FutureWarning,\n"
     ]
    },
    {
     "name": "stdout",
     "output_type": "stream",
     "text": [
      "ROI 33 - Correlation: -0.439, p-value: 0.015\n",
      "ROI 48 - Correlation: -0.532, p-value: 0.002\n",
      "ROI 66 - Correlation: -0.424, p-value: 0.020\n",
      "ROI 78 - Correlation: -0.462, p-value: 0.010\n",
      "ROI 114 - Correlation: 0.470, p-value: 0.009\n",
      "ROI 156 - Correlation: -0.431, p-value: 0.017\n",
      "ROI 160 - Correlation: -0.427, p-value: 0.019\n",
      "ROI 161 - Correlation: -0.382, p-value: 0.037\n",
      "ROI 178 - Correlation: 0.386, p-value: 0.035\n",
      "ROI 179 - Correlation: 0.434, p-value: 0.017\n",
      "ROI 199 - Correlation: 0.426, p-value: 0.019\n",
      "ROI 235 - Correlation: -0.416, p-value: 0.022\n",
      "ROI 257 - Correlation: -0.386, p-value: 0.035\n",
      "ROI 294 - Correlation: 0.399, p-value: 0.029\n",
      "ROI 319 - Correlation: -0.389, p-value: 0.034\n",
      "ROI 331 - Correlation: -0.528, p-value: 0.003\n",
      "ROI 333 - Correlation: -0.425, p-value: 0.019\n",
      "ROI 347 - Correlation: 0.424, p-value: 0.020\n",
      "ROI 358 - Correlation: -0.381, p-value: 0.038\n",
      "ROI 418 - Correlation: -0.380, p-value: 0.038\n"
     ]
    }
   ],
   "source": [
    "# Function to loop through ROIs and perform correlation analysis\n",
    "p_values = []\n",
    "corr_values = []\n",
    "for roi_n in list_roi:  # Assuming there are 426 ROIs\n",
    "    roi_dataset = list_timescale_roi(roi_n)\n",
    "    corr_result = pg.corr(beh_replies, roi_dataset)\n",
    "    \n",
    "    p_values.append(corr_result['p-val'].values[0])\n",
    "    corr_values.append(corr_result['r'].values[0])\n",
    "    \n",
    "    if corr_result['p-val'].values[0] < 0.05:  \n",
    "        print(f\"ROI {roi_n} - Correlation: {corr_result['r'].values[0]:.3f}, p-value: {corr_result['p-val'].values[0]:.3f}\")\n",
    "    #else:\n",
    "        #print(roi_n)"
   ]
  },
  {
   "cell_type": "code",
   "execution_count": 398,
   "metadata": {},
   "outputs": [],
   "source": [
    "for i in list_roi:\n",
    "    positions = np.where(atlas_file == i)\n",
    "    atlas_to_plot[positions] = atlas_file[positions]"
   ]
  },
  {
   "cell_type": "code",
   "execution_count": 399,
   "metadata": {},
   "outputs": [
    {
     "data": {
      "text/plain": [
       "array([  0.,  33.,  48.,  66.,  78., 114., 156., 160., 161., 178., 179.,\n",
       "       199., 235., 257., 294., 319., 331., 333., 347., 358., 418.])"
      ]
     },
     "execution_count": 399,
     "metadata": {},
     "output_type": "execute_result"
    }
   ],
   "source": [
    "np.unique(atlas_to_plot)"
   ]
  },
  {
   "cell_type": "code",
   "execution_count": 400,
   "metadata": {},
   "outputs": [
    {
     "data": {
      "text/plain": [
       "(97, 116, 98)"
      ]
     },
     "execution_count": 400,
     "metadata": {},
     "output_type": "execute_result"
    }
   ],
   "source": [
    "atlas_to_plot.shape"
   ]
  },
  {
   "cell_type": "code",
   "execution_count": 403,
   "metadata": {},
   "outputs": [],
   "source": [
    "for i, r in zip(list_roi, corr_values):\n",
    "    index_to_replace = np.where(atlas_to_plot == i)\n",
    "    atlas_to_plot[index_to_replace] = r"
   ]
  },
  {
   "cell_type": "code",
   "execution_count": 405,
   "metadata": {},
   "outputs": [
    {
     "data": {
      "text/plain": [
       "array([-0.53234684, -0.52777273, -0.46186798, -0.43862073, -0.43142799,\n",
       "       -0.4265587 , -0.42548924, -0.42388475, -0.41587396, -0.38870613,\n",
       "       -0.38627331, -0.38188464, -0.38118666, -0.38037751,  0.        ,\n",
       "        0.38587686,  0.39884362,  0.42395267,  0.42613388,  0.43372891,\n",
       "        0.46962524])"
      ]
     },
     "execution_count": 405,
     "metadata": {},
     "output_type": "execute_result"
    }
   ],
   "source": [
    "np.unique(atlas_to_plot)"
   ]
  },
  {
   "cell_type": "code",
   "execution_count": 409,
   "metadata": {},
   "outputs": [],
   "source": [
    "import nilearn\n",
    "from nilearn import surface\n",
    "from nilearn import plotting\n",
    "from os.path import join as opj\n",
    "from nilearn import datasets\n",
    "import os"
   ]
  },
  {
   "cell_type": "code",
   "execution_count": 433,
   "metadata": {
    "scrolled": false
   },
   "outputs": [
    {
     "data": {
      "text/plain": [
       "array([[   2.        ,    0.        ,    0.        ,  -95.97200775],\n",
       "       [   0.        ,    2.        ,    0.        , -132.5       ],\n",
       "       [   0.        ,    0.        ,    2.        ,  -78.5       ],\n",
       "       [   0.        ,    0.        ,    0.        ,    1.        ]])"
      ]
     },
     "execution_count": 433,
     "metadata": {},
     "output_type": "execute_result"
    }
   ],
   "source": [
    "affine_m = np.array([[   2.      ,    0.      ,    0.      ,  -95.97200775],\n",
    "       [   0.      ,    2.      ,    0.      , -132.5     ],\n",
    "       [   0.      ,    0.      ,    2.      ,  -78.5     ],\n",
    "       [   0.      ,    0.      ,    0.      ,    1.      ]])\n",
    "\n",
    "nifti_image = nib.Nifti1Image(atlas_to_plot, affine=affine_m)\n",
    "#nib.save(nifti_image, '/home/lisz/Desktop/Time_project/time_fmri/data_check.nii.gz')\n",
    "nifti_image.affine"
   ]
  },
  {
   "cell_type": "code",
   "execution_count": 449,
   "metadata": {},
   "outputs": [
    {
     "data": {
      "text/plain": [
       "<nilearn.plotting.displays._slicers.ZSlicer at 0x7f1b066425f8>"
      ]
     },
     "execution_count": 449,
     "metadata": {},
     "output_type": "execute_result"
    },
    {
     "data": {
      "image/png": "[encoded data removed]",
      "text/plain": [
       "<Figure size 1634.4x165.6 with 12 Axes>"
      ]
     },
     "metadata": {},
     "output_type": "display_data"
    }
   ],
   "source": [
    "plotting.plot_stat_map(nifti_image, \n",
    "                       #threshold=0.01,\n",
    "                       cut_coords=(1, 2, 3, 4, 5,6,7,8,9,10),\\\n",
    "                       #cut_coords=(11, 12, 13, 14, 15),\n",
    "                       #cut_coords=7,\n",
    "                       #draw_cross=False,\n",
    "                       display_mode=\"z\",\n",
    "                       vmax=1,#upperbond of the colormap\n",
    "                       colorbar=True,\n",
    "                       cmap='seismic',\n",
    "                       #title=\"Tranzition zone\",\n",
    "                       )"
   ]
  },
  {
   "cell_type": "code",
   "execution_count": 450,
   "metadata": {},
   "outputs": [
    {
     "data": {
      "text/plain": [
       "<nilearn.plotting.displays._slicers.ZSlicer at 0x7f1b06309390>"
      ]
     },
     "execution_count": 450,
     "metadata": {},
     "output_type": "execute_result"
    },
    {
     "data": {
      "image/png": "[encoded data removed]",
      "text/plain": [
       "<Figure size 842.4x165.6 with 7 Axes>"
      ]
     },
     "metadata": {},
     "output_type": "display_data"
    }
   ],
   "source": [
    "plotting.plot_stat_map(nifti_image, \n",
    "                       #threshold=0.01,\n",
    "                       #cut_coords=(1, 2, 3, 4, 5,6,7,8,9,10),\\\n",
    "                       cut_coords=(11, 12, 13, 14, 15),\n",
    "                       #cut_coords=7,\n",
    "                       #draw_cross=False,\n",
    "                       display_mode=\"z\",\n",
    "                       vmax=1,#upperbond of the colormap\n",
    "                       colorbar=True,\n",
    "                       cmap='seismic',\n",
    "                       #title=\"Tranzition zone\",\n",
    "                       )"
   ]
  },
  {
   "cell_type": "code",
   "execution_count": 463,
   "metadata": {},
   "outputs": [
    {
     "data": {
      "image/png": "[encoded data removed]",
      "text/plain": [
       "<Figure size 288x324 with 5 Axes>"
      ]
     },
     "metadata": {
      "needs_background": "light"
     },
     "output_type": "display_data"
    }
   ],
   "source": [
    "cmap = mpl.cm.plasma # pink - yellow\n",
    "plotting.plot_img_on_surf(nifti_image, bg_on_data = True, #mask_img = clusters,\n",
    "                          views=['medial', 'lateral'],\n",
    "                          hemispheres=['left', 'right'],\n",
    "                          colorbar=True, cmap = 'Spectral',\n",
    "                          inflate=True,\n",
    "                          threshold=0.01,\n",
    "                          #cut_coords = 5,\n",
    "                          #title = \"Intrinsic neural timescale corr mean response\"\n",
    "                         )\n",
    "\n",
    "\n",
    "plotting.show()"
   ]
  },
  {
   "cell_type": "code",
   "execution_count": null,
   "metadata": {},
   "outputs": [],
   "source": [
    "fig = plotting.plot_surf_stat_map(\n",
    "    fsaverage.infl_left, texture, hemi='left',\n",
    "    #title='Surface left hemisphere, tranzition zone', \n",
    "    #colorbar=False,\n",
    "    threshold=3.1, bg_map=fsaverage.sulc_left,view='lateral',\n",
    "    vmax=8.3, bg_on_data=True)\n",
    "    #st, bg_on_data = True,\n",
    "    #                      views=['lateral', 'medial'],\n",
    "    #                      hemispheres=['left', 'right'],\n",
    "     #                     colorbar=True, cmap = cmap\n",
    "\n",
    "plotting.plot_surf_contours(fsaverage.infl_right, parcellation, labels=labels,\n",
    "                            levels=regions_indices, figure=fig,\n",
    "                            legend=True,\n",
    "                            colors=['g', 'k'])\n",
    "\n",
    "fig.show()"
   ]
  },
  {
   "cell_type": "code",
   "execution_count": null,
   "metadata": {},
   "outputs": [],
   "source": []
  },
  {
   "cell_type": "code",
   "execution_count": null,
   "metadata": {},
   "outputs": [],
   "source": []
  },
  {
   "cell_type": "code",
   "execution_count": null,
   "metadata": {},
   "outputs": [],
   "source": []
  },
  {
   "cell_type": "code",
   "execution_count": 30,
   "metadata": {},
   "outputs": [],
   "source": [
    "# choose path and data: functional or resting state\n",
    "pth = '/home/lisz/Desktop/Time_project/time_fmri/data/derivatives/preprocess'\n",
    "sub = 'sub-31'\n",
    "\n",
    "file_name = f'{sub}_task-rest_acq-EPI_space-MNI152NLin2009cAsym_desc-preproc_bold_2mm.nii.gz'\n",
    "\n",
    "atlas_file = '/home/lisz/Desktop/fmri_atlases/HCPex_2mm_resampled.nii.gz'\n",
    "\n",
    "example_filename = os.path.join(pth, sub, 'func', file_name)"
   ]
  },
  {
   "cell_type": "code",
   "execution_count": 31,
   "metadata": {},
   "outputs": [],
   "source": [
    "# open as nib nifti\n",
    "img_data = nib.load(example_filename)\n",
    "atlas_HCP = nib.load(atlas_file)"
   ]
  },
  {
   "cell_type": "code",
   "execution_count": 32,
   "metadata": {},
   "outputs": [
    {
     "data": {
      "text/plain": [
       "(97, 116, 98, 180)"
      ]
     },
     "execution_count": 32,
     "metadata": {},
     "output_type": "execute_result"
    }
   ],
   "source": [
    "img_data.shape"
   ]
  },
  {
   "cell_type": "code",
   "execution_count": 75,
   "metadata": {},
   "outputs": [
    {
     "name": "stdout",
     "output_type": "stream",
     "text": [
      "[[   2.            0.            0.          -95.97200775]\n",
      " [   0.            2.            0.         -132.5       ]\n",
      " [   0.            0.            2.          -78.5       ]\n",
      " [   0.            0.            0.            1.        ]]\n",
      "(2.0, 2.0, 2.0)\n",
      "(97, 116, 98)\n"
     ]
    }
   ],
   "source": [
    "header = atlas_HCP.header\n",
    "\n",
    "space = header.get_best_affine()\n",
    "resolution = header.get_zooms()\n",
    "print(space)\n",
    "print(resolution)\n",
    "print(atlas_HCP.shape)"
   ]
  },
  {
   "cell_type": "code",
   "execution_count": 76,
   "metadata": {},
   "outputs": [
    {
     "name": "stdout",
     "output_type": "stream",
     "text": [
      "[[   2.            0.            0.          -95.97200775]\n",
      " [   0.            2.            0.         -132.5       ]\n",
      " [   0.            0.            2.          -78.5       ]\n",
      " [   0.            0.            0.            1.        ]]\n",
      "(2.0, 2.0, 2.0, 2.0)\n",
      "(97, 116, 98, 180)\n"
     ]
    }
   ],
   "source": [
    "header = img_data.header\n",
    "\n",
    "space = header.get_best_affine()\n",
    "resolution = header.get_zooms()\n",
    "print(space)\n",
    "print(resolution)\n",
    "print(img_data.shape)"
   ]
  },
  {
   "cell_type": "code",
   "execution_count": 76,
   "metadata": {},
   "outputs": [],
   "source": [
    "# Extract data as a NumPy array\n",
    "img_data = img.get_fdata()\n",
    "atlas_HCP = atlas_HCP.get_fdata()"
   ]
  },
  {
   "cell_type": "code",
   "execution_count": 77,
   "metadata": {},
   "outputs": [
    {
     "data": {
      "text/plain": [
       "nibabel.nifti1.Nifti1Image"
      ]
     },
     "execution_count": 77,
     "metadata": {},
     "output_type": "execute_result"
    }
   ],
   "source": [
    "type(img)"
   ]
  },
  {
   "cell_type": "code",
   "execution_count": 78,
   "metadata": {},
   "outputs": [
    {
     "data": {
      "text/plain": [
       "(4, 4)"
      ]
     },
     "execution_count": 78,
     "metadata": {},
     "output_type": "execute_result"
    }
   ],
   "source": [
    "# affine transformation applied to the acquired \n",
    "# fMRI data during preprocessing\n",
    "\"\"\" it would be the same for any exp with MNI registration? \"\"\"\n",
    "# translation, rotation, scaling, and shearing\n",
    "img.affine.shape"
   ]
  },
  {
   "cell_type": "code",
   "execution_count": 79,
   "metadata": {},
   "outputs": [
    {
     "data": {
      "text/plain": [
       "90"
      ]
     },
     "execution_count": 79,
     "metadata": {},
     "output_type": "execute_result"
    }
   ],
   "source": [
    "mid_vol_n = int(img_data.shape[3]/2)\n",
    "mid_vol_n"
   ]
  },
  {
   "cell_type": "code",
   "execution_count": 80,
   "metadata": {},
   "outputs": [
    {
     "name": "stdout",
     "output_type": "stream",
     "text": [
      "115.05757843141424\n",
      "664.8125177094972\n",
      "715.6715421252945\n",
      "783.1252031685772\n",
      "814.7383634201509\n",
      "841.9915085184089\n",
      "952.7333618164063\n",
      "835.9831262705277\n",
      "763.8973391834319\n",
      "933.8030282429287\n",
      "921.6873336791992\n",
      "578.367347080373\n",
      "725.8327599211112\n",
      "599.8044998734085\n",
      "444.4800956394361\n",
      "Mean intensity  444.4800956394361\n"
     ]
    }
   ],
   "source": [
    "middle_volume = img_data[:,:,:,mid_vol_n]\n",
    "# mean intensity within \n",
    "# CAUDATE\n",
    "for i in range(15):\n",
    "    mean_int = np.mean(middle_volume[atlas_HCP == i])\n",
    "    print(mean_int)\n",
    "    \n",
    "# mean_int = np.mean(middle_volume[test_masks == 100])\n",
    "\n",
    "print(\"Mean intensity \", mean_int)"
   ]
  },
  {
   "cell_type": "markdown",
   "metadata": {},
   "source": [
    "## Plot timeseries"
   ]
  },
  {
   "cell_type": "code",
   "execution_count": 6,
   "metadata": {},
   "outputs": [],
   "source": [
    "# calculate means of each volume inside the brain\n",
    "# brain region is an integer from the atlas\n",
    "def calculate_means(brain_region,img_dataset,atlas_name):\n",
    "    means_of_volumes = []\n",
    "\n",
    "    timing = int(img_dataset.shape[3])\n",
    "    for t in range(timing):\n",
    "        volume = img_dataset[:, :, :, t]# Extract the volume at time point t\n",
    "        masked_volume = np.mean(volume[atlas_name == brain_region])\n",
    "        means_of_volumes.append(masked_volume)\n",
    "    #print(len(means_of_volumes))\n",
    "    #print(int(img_dataset.shape[3]))\n",
    "    return means_of_volumes"
   ]
  },
  {
   "cell_type": "code",
   "execution_count": 86,
   "metadata": {},
   "outputs": [
    {
     "data": {
      "text/plain": [
       "array([  0,   1,   2,   3,   4,   5,   6,   7,   8,   9,  10,  11,  12,\n",
       "        13,  14,  15,  16,  17,  18,  19,  20,  21,  22,  23,  24,  25,\n",
       "        26,  27,  28,  29,  30,  31,  32,  33,  34,  35,  36,  37,  38,\n",
       "        39,  40,  41,  42,  43,  44,  45,  46,  47,  48,  49,  50,  51,\n",
       "        52,  53,  54,  55,  56,  57,  58,  59,  60,  61,  62,  63,  64,\n",
       "        65,  66,  67,  68,  69,  70,  71,  72,  73,  74,  75,  76,  77,\n",
       "        78,  79,  80,  81,  82,  83,  84,  85,  86,  87,  88,  89,  90,\n",
       "        91,  92,  93,  94,  95,  96,  97,  98,  99, 100, 101, 102, 103,\n",
       "       104, 105, 106, 107, 108, 109, 110, 111, 112, 113, 114, 115, 116,\n",
       "       117, 118, 119, 120, 121, 122, 123, 124, 125, 126, 127, 128, 129,\n",
       "       130, 131, 132, 133, 134, 135, 136, 137, 138, 139, 140, 141, 142,\n",
       "       143, 144, 145, 146, 147, 148, 149, 150, 151, 152, 153, 154, 155,\n",
       "       156, 157, 158, 159, 160, 161, 162, 163, 164, 165, 166, 167, 168,\n",
       "       169, 170, 171, 172, 173, 174, 175, 176, 177, 178, 179])"
      ]
     },
     "execution_count": 86,
     "metadata": {},
     "output_type": "execute_result"
    }
   ],
   "source": [
    "num_time_points = int(img_data.shape[3])\n",
    "time_vector = np.arange(num_time_points)\n",
    "time_vector"
   ]
  },
  {
   "cell_type": "code",
   "execution_count": 87,
   "metadata": {},
   "outputs": [
    {
     "name": "stdout",
     "output_type": "stream",
     "text": [
      "180\n",
      "180\n",
      "180\n",
      "180\n",
      "180\n",
      "180\n",
      "180\n",
      "180\n"
     ]
    }
   ],
   "source": [
    "l_caudate = calculate_means(383, img_data, atlas_HCP)\n",
    "r_caudate = calculate_means(416, img_data, atlas_HCP)\n",
    "\n",
    "l_putamen = calculate_means(382, img_data, atlas_HCP)\n",
    "r_putamen = calculate_means(415, img_data, atlas_HCP)"
   ]
  },
  {
   "cell_type": "code",
   "execution_count": 88,
   "metadata": {},
   "outputs": [
    {
     "data": {
      "image/png": "[encoded data removed]",
      "text/plain": [
       "<Figure size 720x360 with 1 Axes>"
      ]
     },
     "metadata": {
      "needs_background": "light"
     },
     "output_type": "display_data"
    }
   ],
   "source": [
    "#num_time_points = int(img_data.shape[3])\n",
    "#resting_state_data = img_data\n",
    "\n",
    "# Create a time vector \n",
    "time_vector = np.arange(num_time_points)\n",
    "\n",
    "plt.figure(figsize=(10, 5))\n",
    "plt.plot(time_vector, l_caudate, label='left caudate')\n",
    "plt.plot(time_vector, r_caudate, label='right caudate')\n",
    "plt.plot(time_vector, l_putamen, label='left putamen')\n",
    "plt.plot(time_vector, r_putamen, label='right putamen')\n",
    "plt.xlabel('Volume')\n",
    "plt.ylabel('Mean Signal Intensity')\n",
    "plt.title('Mean Time Series in Resting State')\n",
    "plt.legend()\n",
    "plt.grid(True)\n",
    "plt.show()"
   ]
  },
  {
   "cell_type": "code",
   "execution_count": 95,
   "metadata": {},
   "outputs": [
    {
     "data": {
      "text/plain": [
       "336.69793126600666"
      ]
     },
     "execution_count": 95,
     "metadata": {},
     "output_type": "execute_result"
    }
   ],
   "source": [
    "# calculate means of each volume OUTSIDE the brain\n",
    "SD_of_volumes = []\n",
    "timing = int(img_data.shape[3])\n",
    "for t in range(timing):\n",
    "\n",
    "    volume = img_data[:, :, :, t]# Extract the volume at time point t\n",
    "    masked_volume = np.std(volume[atlas_HCP == 1])\n",
    "    SD_of_volumes.append(masked_volume)\n",
    "    \n",
    "masked_volume"
   ]
  },
  {
   "cell_type": "markdown",
   "metadata": {},
   "source": [
    "The simplest way to investigate similarity between two signals is by looking at their timeseries correlation using Pearson’s correlation coefficient."
   ]
  },
  {
   "cell_type": "markdown",
   "metadata": {},
   "source": [
    "\"Biswal and colleagues compared task activation maps during finger tapping with a map of correlation coefficients of BOLD data obtained during a scan when the subject was resting. The resting state correlation map was created by taking all voxels that were activated by the motor task and using only the resting state data to calculate the correlation of each voxel in the brain with those “activated” voxels."
   ]
  },
  {
   "cell_type": "markdown",
   "metadata": {},
   "source": [
    "Key regions of the DMN are the posterior cingulate cortex, precuneus, medial prefrontal cortex, inferior parietal lobule, and lateral temporal cortex.\""
   ]
  },
  {
   "cell_type": "markdown",
   "metadata": {},
   "source": [
    "## T-test"
   ]
  },
  {
   "cell_type": "markdown",
   "metadata": {},
   "source": [
    "z-scores - do it with intensity first, then \n",
    "participant\n",
    "roi\n",
    "z-scores = roi + (1|participant)\n",
    "\n",
    "make t-test of roi to zero (did for both sides of putamen and caudate, significant)\n",
    "then i can add behavioral responces "
   ]
  },
  {
   "cell_type": "code",
   "execution_count": 97,
   "metadata": {},
   "outputs": [
    {
     "name": "stdout",
     "output_type": "stream",
     "text": [
      "180\n",
      "180\n",
      "180\n",
      "180\n",
      "180\n",
      "180\n",
      "180\n",
      "180\n"
     ]
    }
   ],
   "source": [
    "l_caudate = calculate_means(383, img_data, atlas_HCP)\n",
    "r_caudate = calculate_means(416, img_data, atlas_HCP)\n",
    "\n",
    "l_putamen = calculate_means(382, img_data, atlas_HCP)\n",
    "r_putamen = calculate_means(415, img_data, atlas_HCP)"
   ]
  },
  {
   "cell_type": "code",
   "execution_count": 132,
   "metadata": {},
   "outputs": [],
   "source": [
    "from pingouin import ttest\n",
    "from pymer4.models import Lmer"
   ]
  },
  {
   "cell_type": "code",
   "execution_count": 108,
   "metadata": {},
   "outputs": [
    {
     "name": "stderr",
     "output_type": "stream",
     "text": [
      "/home/lisz/.pyenv/versions/3.6.10/lib/python3.6/site-packages/pingouin/bayesian.py:152: RuntimeWarning: divide by zero encountered in double_scalars\n",
      "  bf10 = 1 / ((1 + t**2 / df)**(-(df + 1) / 2) / integr)\n"
     ]
    },
    {
     "data": {
      "text/html": [
       "<div>\n",
       "<style scoped>\n",
       "    .dataframe tbody tr th:only-of-type {\n",
       "        vertical-align: middle;\n",
       "    }\n",
       "\n",
       "    .dataframe tbody tr th {\n",
       "        vertical-align: top;\n",
       "    }\n",
       "\n",
       "    .dataframe thead th {\n",
       "        text-align: right;\n",
       "    }\n",
       "</style>\n",
       "<table border=\"1\" class=\"dataframe\">\n",
       "  <thead>\n",
       "    <tr style=\"text-align: right;\">\n",
       "      <th></th>\n",
       "      <th>T</th>\n",
       "      <th>dof</th>\n",
       "      <th>tail</th>\n",
       "      <th>p-val</th>\n",
       "      <th>CI95%</th>\n",
       "      <th>cohen-d</th>\n",
       "      <th>BF10</th>\n",
       "      <th>power</th>\n",
       "    </tr>\n",
       "  </thead>\n",
       "  <tbody>\n",
       "    <tr>\n",
       "      <th>T-test</th>\n",
       "      <td>1803.193724</td>\n",
       "      <td>179</td>\n",
       "      <td>two-sided</td>\n",
       "      <td>0.0</td>\n",
       "      <td>[532.78, 533.95]</td>\n",
       "      <td>134.402125</td>\n",
       "      <td>inf</td>\n",
       "      <td>1.0</td>\n",
       "    </tr>\n",
       "  </tbody>\n",
       "</table>\n",
       "</div>"
      ],
      "text/plain": [
       "                  T  dof       tail  p-val             CI95%     cohen-d BF10  \\\n",
       "T-test  1803.193724  179  two-sided    0.0  [532.78, 533.95]  134.402125  inf   \n",
       "\n",
       "        power  \n",
       "T-test    1.0  "
      ]
     },
     "execution_count": 108,
     "metadata": {},
     "output_type": "execute_result"
    }
   ],
   "source": [
    "ttest(r_caudate,0)"
   ]
  },
  {
   "cell_type": "code",
   "execution_count": 126,
   "metadata": {},
   "outputs": [],
   "source": [
    "pth = '/home/lisz/Desktop/Time_project/time_fmri/data/derivatives/preprocess'\n",
    "atlas_file = '/home/lisz/Desktop/fmri_atlases/HCPex_2mm_resampled.nii.gz'\n",
    "atlas_HCP = nib.load(atlas_file)\n",
    "atlas_HCP = atlas_HCP.get_fdata()\n",
    "# Initialize an empty list to store DataFrames for each participant\n",
    "dfs = []\n",
    "\n",
    "for sub in sub_list:\n",
    "    file_name = f'{sub}_task-rest_acq-EPI_space-MNI152NLin2009cAsym_desc-preproc_bold_2mm.nii.gz'\n",
    "    example_filename = os.path.join(pth, sub, 'func', file_name)\n",
    "    # open as nib nifti\n",
    "    img_data = nib.load(example_filename)\n",
    "    # Extract data as a NumPy array\n",
    "    img_data = img.get_fdata()\n",
    "    l_putamen = calculate_means(382, img_data, atlas_HCP)\n",
    "    r_putamen = calculate_means(415, img_data, atlas_HCP)\n",
    "    putamen = l_putamen+r_putamen\n",
    "    \n",
    "    l_caudate = calculate_means(383, img_data, atlas_HCP)\n",
    "    r_caudate = calculate_means(416, img_data, atlas_HCP)\n",
    "    caudate = l_caudate+r_caudate\n",
    "    \n",
    "    # Create a temporary DataFrame for the current participant\n",
    "    temp_df = pd.DataFrame({'putamen': putamen, 'caudate': caudate, \n",
    "                            'participant': [sub] * len(putamen)})\n",
    "\n",
    "    # Append the temporary DataFrame to the list\n",
    "    dfs.append(temp_df)\n",
    "    \n",
    "# Concatenate all DataFrames in the list into one DataFrame\n",
    "df = pd.concat(dfs, ignore_index=True)"
   ]
  },
  {
   "cell_type": "code",
   "execution_count": 139,
   "metadata": {},
   "outputs": [],
   "source": [
    "df.to_csv('/home/lisz/Desktop/Time_project/your_file.csv', index=False)"
   ]
  }
 ],
 "metadata": {
  "kernelspec": {
   "display_name": "Python 3",
   "language": "python",
   "name": "python3"
  },
  "language_info": {
   "codemirror_mode": {
    "name": "ipython",
    "version": 3
   },
   "file_extension": ".py",
   "mimetype": "text/x-python",
   "name": "python",
   "nbconvert_exporter": "python",
   "pygments_lexer": "ipython3",
   "version": "3.6.10"
  }
 },
 "nbformat": 4,
 "nbformat_minor": 4
}
