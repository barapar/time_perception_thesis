{
 "cells": [
  {
   "cell_type": "code",
   "execution_count": 1,
   "metadata": {},
   "outputs": [],
   "source": [
    "import pandas as pd\n",
    "import os"
   ]
  },
  {
   "cell_type": "code",
   "execution_count": 2,
   "metadata": {},
   "outputs": [],
   "source": [
    "model = \"glm_eccentricity\""
   ]
  },
  {
   "cell_type": "code",
   "execution_count": 3,
   "metadata": {},
   "outputs": [],
   "source": [
    "sub_list = [\"sub-01\",\"sub-02\",\"sub-03\",\n",
    "            \"sub-04\",\"sub-05\",\"sub-06\",\n",
    "            \"sub-07\",\"sub-08\",\"sub-09\",\n",
    "            \"sub-10\",\"sub-11\",\"sub-12\",\n",
    "            \"sub-13\",\"sub-15\",\"sub-16\",\n",
    "            \"sub-17\",\"sub-18\",\"sub-19\",\n",
    "            \"sub-21\",\"sub-22\",\"sub-23\",\n",
    "            \"sub-24\",\"sub-25\",\"sub-26\",\n",
    "            \"sub-27\",\"sub-28\",\"sub-30\",\n",
    "            \"sub-31\",\"sub-32\",\"sub-33\",]\n",
    "\n",
    "run_list = [\"run-01\",\"run-02\",\"run-03\",\"run-04\"]"
   ]
  },
  {
   "cell_type": "code",
   "execution_count": 4,
   "metadata": {},
   "outputs": [],
   "source": [
    "base_folder = '/home/lisz/Desktop/Time_project/time_fmri'"
   ]
  },
  {
   "cell_type": "code",
   "execution_count": 5,
   "metadata": {},
   "outputs": [],
   "source": [
    "def open_file():\n",
    "    fldr = base_folder+'/behavioral_data/'+sub+'/'\n",
    "    pth = fldr+sub+'_'+run+'.csv'\n",
    "    df = pd.read_csv(pth, usecols=[\"fmri_resp.started\",\n",
    "                           \"fmri_resp.rt\",\n",
    "                           \"ITI.started\",\n",
    "                           \"standard.started\", \n",
    "                           \"isi_pause.started\",\n",
    "                           \"key_resp.started\",\n",
    "                           \"key_resp_rt\",\n",
    "                           \"vis_area\",\n",
    "                           \"exclusion\"])\n",
    "    # check when the fmri machine was turned on\n",
    "    exp_beg = df['fmri_resp.started'][0] + df['fmri_resp.rt'][0]\n",
    "    #print(\"start of the fmri machine recording\", exp_beg)\n",
    "\n",
    "    # normalize the time of interest to the fmri machine timing\n",
    "    df['pd_start'] = df['isi_pause.started'].sub(exp_beg)\n",
    "    df['response_start'] = df['key_resp.started'].sub(exp_beg)\n",
    "    df['standard_start'] = df['standard.started'].sub(exp_beg)\n",
    "    df['ITI_start'] = df['ITI.started'].sub(exp_beg)\n",
    "    \n",
    "    df['ITI_end'] = df['standard_start']\n",
    "\n",
    "    df['response_end'] = df['response_start']+df['key_resp_rt']\n",
    "\n",
    "    # set the beginnings of the events\n",
    "    df['standard_end'] = df['standard_start']+2\n",
    "\n",
    "    df['pd_tranzit_start'] = df['pd_start']\n",
    "    df['pd_tranzit_end'] = df['pd_start']+3\n",
    "\n",
    "    df['pd_plateau_start'] = df['pd_start']+3\n",
    "    df['pd_plateau_end'] = df['response_start']\n",
    "    df['rt100'] = 0.1\n",
    "    df['rt100_end'] = df['response_end']+df['rt100']\n",
    "    return df"
   ]
  },
  {
   "cell_type": "code",
   "execution_count": 6,
   "metadata": {},
   "outputs": [],
   "source": [
    "def create_df(df, clmn, var):\n",
    "    # (df['column1'] == var1) & (df['column2'] == var2)\n",
    "    # (df['column1'] == var1)\n",
    "    periph = pd.DataFrame(df.loc[var])\n",
    "    for index, row in periph.iterrows():\n",
    "        if row['exclusion'] == 'exclude':\n",
    "            periph.at[index, clmn] = 0\n",
    "        else:\n",
    "            periph.at[index, clmn] = 1\n",
    "    # set vis_area to one since it is a condition\n",
    "    return periph"
   ]
  },
  {
   "cell_type": "code",
   "execution_count": 7,
   "metadata": {},
   "outputs": [],
   "source": [
    "def create_ev_with_failed_trials(df, clmn, var):\n",
    "    # (df['column1'] == var1) & (df['column2'] == var2)\n",
    "    # (df['column1'] == var1)\n",
    "    periph = pd.DataFrame(df.loc[var])\n",
    "    for index, row in periph.iterrows():\n",
    "        if row['exclusion'] == 'exclude':\n",
    "            periph.at[index, clmn] = 1\n",
    "        else:\n",
    "            periph.at[index, clmn] = 0\n",
    "    # set vis_area to one since it is a condition\n",
    "    \n",
    "    return periph"
   ]
  },
  {
   "cell_type": "code",
   "execution_count": 8,
   "metadata": {},
   "outputs": [],
   "source": [
    "\"\"\" this function adds a new row into exsisting dataframe,\n",
    "where the \"end\" value from the row above placed in the first column,\n",
    "\"beg\" value from the row below placed in the second column and\n",
    "new row's condition should be equal to 0\"\"\"\n",
    "\n",
    "def add_rows(subset, begins, ends, variabl):\n",
    "    # Create a new empty DataFrame with the same columns as the original\n",
    "    new_df = pd.DataFrame(columns=subset.columns)\n",
    "\n",
    "    # Loop through the rows of the original DataFrame\n",
    "    for i in range(subset.shape[0]):\n",
    "        # Get the values of the current row\n",
    "        beg = subset.iloc[i][begins]\n",
    "        end = subset.iloc[i][ends]\n",
    "        condition = subset.iloc[i][variabl]\n",
    "        \n",
    "        # Append the current row to the new DataFrame,\n",
    "        new_df = new_df.append({'beg': beg, 'end': end, 'condition': condition}, ignore_index=True)\n",
    "\n",
    "        # If this is not the last row, add a new row with the \\\"end\\\" value from the current row,\n",
    "        # the \\\"beg\\\" value from the next row, and a condition of 0\\n\",\n",
    "        if i < subset.shape[0] - 1:\n",
    "            beg_next = subset.iloc[i+1][begins]\n",
    "            new_df = new_df.append({'beg': end, 'end': beg_next, 'condition': 0}, ignore_index=True)\n",
    "    txt_df = new_df[['beg','end','condition']].copy()\n",
    "    txt_df = txt_df.reset_index(drop=True)\n",
    "    txt_df = txt_df.dropna()\n",
    "    # Return the new DataFrame\n",
    "    return txt_df"
   ]
  },
  {
   "cell_type": "code",
   "execution_count": 9,
   "metadata": {},
   "outputs": [],
   "source": [
    "def save_txt(df,contrast):\n",
    "    fldr_save = base_folder+'/data/derivatives/'+model+'/EVs'\n",
    "    file_dir = os.path.join(fldr_save, sub, contrast)\n",
    "    os.makedirs(file_dir, exist_ok=True)\n",
    "    file_path = os.path.join(file_dir, f\"{sub}_{run}_{contrast}.txt\")\n",
    "    df.to_csv(file_path, sep='\\t', header=False, index=False)"
   ]
  },
  {
   "cell_type": "code",
   "execution_count": 10,
   "metadata": {},
   "outputs": [],
   "source": [
    "def merge_sequential_zeros(df):\n",
    "    merged_df = pd.DataFrame(columns=df.columns)\n",
    "    start = None\n",
    "    end = None\n",
    "    condition = None\n",
    "\n",
    "    for index, row in df.iterrows():\n",
    "        if row[\"condition\"] == 0.0:\n",
    "            if start is None:\n",
    "                start = row[\"beg\"]\n",
    "                condition = 0.0\n",
    "            end = row[\"end\"]\n",
    "        else:\n",
    "            if start is not None:\n",
    "                merged_df = merged_df.append({\"beg\": start, \"end\": end, \"condition\": condition}, ignore_index=True)\n",
    "                start = None\n",
    "                end = None\n",
    "                condition = None\n",
    "            merged_df = merged_df.append(row, ignore_index=True)\n",
    "\n",
    "    if start is not None:\n",
    "        merged_df = merged_df.append({\"beg\": start, \"end\": end, \"condition\": condition}, ignore_index=True)\n",
    "\n",
    "    return merged_df"
   ]
  },
  {
   "cell_type": "code",
   "execution_count": null,
   "metadata": {},
   "outputs": [],
   "source": []
  },
  {
   "cell_type": "code",
   "execution_count": 11,
   "metadata": {},
   "outputs": [],
   "source": [
    "for sub in sub_list:\n",
    "    for run in run_list:\n",
    "        a = open_file()\n",
    "        b = create_ev_with_failed_trials(a, 'vis_area', (a['vis_area'] != None))\n",
    "        # since the exclusion criteria is a behavioral resonse,\n",
    "        c = add_rows(b, 'standard_start', 'response_end', 'vis_area')\n",
    "        d = merge_sequential_zeros(c)\n",
    "        save_txt(d,'failed')"
   ]
  },
  {
   "cell_type": "code",
   "execution_count": 13,
   "metadata": {},
   "outputs": [],
   "source": [
    "for sub in sub_list:\n",
    "    for run in run_list:\n",
    "        a = open_file()\n",
    "        b = create_df(a, 'vis_area', (a['vis_area'] != None))\n",
    "        c = add_rows(b, 'pd_plateau_start', 'pd_plateau_end', 'vis_area')\n",
    "        d = merge_sequential_zeros(c)\n",
    "        save_txt(d,'PD_plateau')"
   ]
  },
  {
   "cell_type": "code",
   "execution_count": null,
   "metadata": {},
   "outputs": [],
   "source": [
    "for sub in sub_list:\n",
    "    for run in run_list:\n",
    "        a = open_file()\n",
    "        b = create_df(a, 'key_resp_rt', (a['key_resp_rt'] != None))\n",
    "        c = add_rows(b, 'response_start', 'response_end', 'key_resp_rt')\n",
    "        d = merge_sequential_zeros(c)\n",
    "        save_txt(d,'visual_stim')"
   ]
  },
  {
   "cell_type": "code",
   "execution_count": 111,
   "metadata": {},
   "outputs": [],
   "source": [
    "for sub in sub_list:\n",
    "    for run in run_list:\n",
    "        a = open_file()\n",
    "        b = create_df(a, 'key_resp_rt', (a['key_resp_rt'] != None))\n",
    "        c = add_rows(b, 'response_end', 'rt100_end', 'key_resp_rt')\n",
    "        d = merge_sequential_zeros(c)\n",
    "        save_txt(d,'rt100')"
   ]
  },
  {
   "cell_type": "code",
   "execution_count": null,
   "metadata": {},
   "outputs": [],
   "source": []
  },
  {
   "cell_type": "code",
   "execution_count": null,
   "metadata": {},
   "outputs": [],
   "source": []
  },
  {
   "cell_type": "code",
   "execution_count": 14,
   "metadata": {},
   "outputs": [],
   "source": [
    "for sub in sub_list:\n",
    "    for run in run_list:\n",
    "        a = open_file()\n",
    "        b = create_df(a, 'key_resp_rt', (a['key_resp_rt'] != None))\n",
    "        c = add_rows(b, 'response_start', 'response_end', 'key_resp_rt')\n",
    "        d = merge_sequential_zeros(c)\n",
    "        save_txt(d,'response')"
   ]
  },
  {
   "cell_type": "code",
   "execution_count": 15,
   "metadata": {},
   "outputs": [],
   "source": [
    "for sub in sub_list:\n",
    "    for run in run_list:\n",
    "        a = open_file()\n",
    "        b = create_df(a, 'vis_area', (a['vis_area'] != None))\n",
    "        c = add_rows(b, 'standard_start', 'standard_end', 'vis_area')\n",
    "        d = merge_sequential_zeros(c)\n",
    "        save_txt(d,'standard')"
   ]
  },
  {
   "cell_type": "code",
   "execution_count": 16,
   "metadata": {},
   "outputs": [],
   "source": [
    "for sub in sub_list:\n",
    "    for run in run_list:\n",
    "        a = open_file()\n",
    "        b = create_df(a, 'vis_area', (a['vis_area'] != None))\n",
    "        c = add_rows(b, 'pd_tranzit_start', 'pd_tranzit_end', 'vis_area')\n",
    "        d = merge_sequential_zeros(c)\n",
    "        save_txt(d,'PD_tranzit')"
   ]
  },
  {
   "cell_type": "code",
   "execution_count": null,
   "metadata": {},
   "outputs": [],
   "source": []
  },
  {
   "cell_type": "code",
   "execution_count": 12,
   "metadata": {},
   "outputs": [],
   "source": [
    "for sub in sub_list:\n",
    "    for run in run_list:\n",
    "        a = open_file()\n",
    "        b = create_df(a, 'vis_area', (a['vis_area'] == 'perifoveal'))\n",
    "        c = add_rows(b, 'standard_start', 'standard_end', 'vis_area')\n",
    "        d = merge_sequential_zeros(c)\n",
    "        save_txt(d,'standard_perifoveal')"
   ]
  },
  {
   "cell_type": "code",
   "execution_count": 13,
   "metadata": {},
   "outputs": [],
   "source": [
    "for sub in sub_list:\n",
    "    for run in run_list:\n",
    "        a = open_file()\n",
    "        b = create_df(a, 'vis_area', (a['vis_area'] == 'peripheral'))\n",
    "        c = add_rows(b, 'standard_start', 'standard_end', 'vis_area')\n",
    "        d = merge_sequential_zeros(c)\n",
    "        save_txt(d,'standard_peripheral')"
   ]
  },
  {
   "cell_type": "code",
   "execution_count": 43,
   "metadata": {},
   "outputs": [],
   "source": [
    "for sub in sub_list:\n",
    "    for run in run_list:\n",
    "        a = open_file()\n",
    "        b = create_df(a, 'vis_area', (a['vis_area'] == 'peripheral'))\n",
    "        c = add_rows(b, 'response_start', 'response_end', 'vis_area')\n",
    "        d = merge_sequential_zeros(c)\n",
    "        save_txt(d,'response_peripheral')"
   ]
  },
  {
   "cell_type": "code",
   "execution_count": 44,
   "metadata": {},
   "outputs": [],
   "source": [
    "for sub in sub_list:\n",
    "    for run in run_list:\n",
    "        a = open_file()\n",
    "        b = create_df(a, 'vis_area', (a['vis_area'] == 'perifoveal'))\n",
    "        c = add_rows(b, 'response_start', 'response_end', 'vis_area')\n",
    "        d = merge_sequential_zeros(c)\n",
    "        save_txt(d,'response_perifoveal')"
   ]
  },
  {
   "cell_type": "code",
   "execution_count": 45,
   "metadata": {},
   "outputs": [],
   "source": [
    "for sub in sub_list:\n",
    "    for run in run_list:\n",
    "        a = open_file()\n",
    "        b = create_df(a, 'vis_area', (a['vis_area'] != None))\n",
    "        c = add_rows(b, 'pd_tranzit_start', 'pd_plateau_end', 'vis_area')\n",
    "        d = merge_sequential_zeros(c)\n",
    "        save_txt(d,'PD')"
   ]
  },
  {
   "cell_type": "code",
   "execution_count": 46,
   "metadata": {},
   "outputs": [],
   "source": [
    "for sub in sub_list:\n",
    "    for run in run_list:\n",
    "        a = open_file()\n",
    "        b = create_df(a, 'vis_area', (a['vis_area'] == 'perifoveal'))\n",
    "        c = add_rows(b, 'pd_tranzit_start', 'pd_plateau_end', 'vis_area')\n",
    "        d = merge_sequential_zeros(c)\n",
    "        save_txt(d,'PD_foveal')"
   ]
  },
  {
   "cell_type": "code",
   "execution_count": 47,
   "metadata": {},
   "outputs": [],
   "source": [
    "for sub in sub_list:\n",
    "    for run in run_list:\n",
    "        a = open_file()\n",
    "        b = create_df(a, 'vis_area', (a['vis_area'] == 'peripheral'))\n",
    "        c = add_rows(b, 'pd_tranzit_start', 'pd_plateau_end', 'vis_area')\n",
    "        d = merge_sequential_zeros(c)\n",
    "        save_txt(d,'PD_periph')"
   ]
  },
  {
   "cell_type": "code",
   "execution_count": 50,
   "metadata": {},
   "outputs": [],
   "source": [
    "for sub in sub_list:\n",
    "    for run in run_list:\n",
    "        a = open_file()\n",
    "        b = create_df(a, 'vis_area', (a['vis_area'] == 'perifoveal'))\n",
    "        c = add_rows(b, 'pd_tranzit_start', 'pd_tranzit_end', 'vis_area')\n",
    "        d = merge_sequential_zeros(c)\n",
    "        save_txt(d,'PD_tranzit_foveal')"
   ]
  },
  {
   "cell_type": "code",
   "execution_count": 51,
   "metadata": {},
   "outputs": [],
   "source": [
    "for sub in sub_list:\n",
    "    for run in run_list:\n",
    "        a = open_file()\n",
    "        b = create_df(a, 'vis_area', (a['vis_area'] == 'peripheral'))\n",
    "        c = add_rows(b, 'pd_tranzit_start', 'pd_tranzit_end', 'vis_area')\n",
    "        d = merge_sequential_zeros(c)\n",
    "        save_txt(d,'PD_tranzit_periph')"
   ]
  },
  {
   "cell_type": "code",
   "execution_count": 52,
   "metadata": {},
   "outputs": [],
   "source": [
    "for sub in sub_list:\n",
    "    for run in run_list:\n",
    "        a = open_file()\n",
    "        b = create_df(a, 'vis_area', (a['vis_area'] == 'perifoveal'))\n",
    "        c = add_rows(b, 'pd_plateau_start', 'pd_plateau_end', 'vis_area')\n",
    "        d = merge_sequential_zeros(c)\n",
    "        save_txt(d,'PD_plateau_foveal')"
   ]
  },
  {
   "cell_type": "code",
   "execution_count": 53,
   "metadata": {},
   "outputs": [],
   "source": [
    "for sub in sub_list:\n",
    "    for run in run_list:\n",
    "        a = open_file()\n",
    "        b = create_df(a, 'vis_area', (a['vis_area'] == 'peripheral'))\n",
    "        c = add_rows(b, 'pd_plateau_start', 'pd_plateau_end', 'vis_area')\n",
    "        d = merge_sequential_zeros(c)\n",
    "        save_txt(d,'PD_plateau_periph')"
   ]
  },
  {
   "cell_type": "code",
   "execution_count": null,
   "metadata": {},
   "outputs": [],
   "source": []
  },
  {
   "cell_type": "code",
   "execution_count": null,
   "metadata": {},
   "outputs": [],
   "source": []
  },
  {
   "cell_type": "code",
   "execution_count": null,
   "metadata": {},
   "outputs": [],
   "source": []
  },
  {
   "cell_type": "code",
   "execution_count": null,
   "metadata": {},
   "outputs": [],
   "source": []
  },
  {
   "cell_type": "code",
   "execution_count": null,
   "metadata": {},
   "outputs": [],
   "source": []
  },
  {
   "cell_type": "code",
   "execution_count": null,
   "metadata": {},
   "outputs": [],
   "source": []
  },
  {
   "cell_type": "code",
   "execution_count": null,
   "metadata": {},
   "outputs": [],
   "source": []
  }
 ],
 "metadata": {
  "kernelspec": {
   "display_name": "Python 3",
   "language": "python",
   "name": "python3"
  },
  "language_info": {
   "codemirror_mode": {
    "name": "ipython",
    "version": 3
   },
   "file_extension": ".py",
   "mimetype": "text/x-python",
   "name": "python",
   "nbconvert_exporter": "python",
   "pygments_lexer": "ipython3",
   "version": "3.6.10"
  }
 },
 "nbformat": 4,
 "nbformat_minor": 4
}
