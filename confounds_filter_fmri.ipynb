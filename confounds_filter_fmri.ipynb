{
 "cells": [
  {
   "cell_type": "code",
   "execution_count": 1,
   "metadata": {},
   "outputs": [],
   "source": [
    "\"\"\"Make confound files from fmriprep output.\n",
    "\n",
    "Confound items:\n",
    "    - WM\n",
    "    - CSF\n",
    "    - Cosines\n",
    "    - Head motion\n",
    "    - tCompCor\n",
    "\n",
    "@author: Niall Duncan\n",
    "@edit: Paul Cheng\n",
    "@edit: Elizaveta B-P\n",
    "\"\"\"\n",
    "\n",
    "import csv\n",
    "import os\n",
    "import pandas as pd\n",
    "from os.path import join as opj\n",
    "\n",
    "pth = \"/home/lisz/Desktop/Time_project/time_fmri/data\"\n",
    "\n",
    "runs = [\"run-01\",\"run-02\",\"run-03\",\"run-04\"]\n",
    "\n",
    "# as a subjects list open the tsv file with subjects list for fmriprep\n",
    "with open(pth+'/participants.tsv', 'r') as tsv_file:\n",
    "    subjects_list = ['sub-{0:02d}'.format(int(row['participant_id'])) for row in csv.DictReader(tsv_file, delimiter='\\t')]\n",
    "\n",
    "pth_conf = pth+\"/derivatives/preprocess\"\n",
    "\n",
    "#fldr = '/home/lisz/Desktop/Time_project/time_fmri/data/derivatives/preprocess/'+sub+'/func'\n",
    "\n",
    "\n",
    "#fldr_o = '/home/lisz/Desktop/Time_project/time_fmri/data/derivatives/preprocess/confounds'\n",
    "# config\n",
    "shared_cols = ['global_signal','global_signal_derivative1','global_signal_derivative1_power2',\n",
    "               'global_signal_power2','csf', 'white_matter', 'tcompcor',\n",
    "               'trans_x', 'trans_x_derivative1', 'trans_x_power2', 'trans_x_derivative1_power2',\n",
    "               'trans_y', 'trans_y_derivative1', 'trans_y_derivative1_power2', 'trans_y_power2',\n",
    "               'trans_z', 'trans_z_derivative1', 'trans_z_derivative1_power2', 'trans_z_power2',\n",
    "               'rot_x', 'rot_x_derivative1', 'rot_x_power2', 'rot_x_derivative1_power2',\n",
    "               'rot_y', 'rot_y_derivative1', 'rot_y_power2', 'rot_y_derivative1_power2',\n",
    "               'rot_z', 'rot_z_derivative1','rot_z_derivative1_power2', 'rot_z_power2']\n",
    "\n",
    "col_open = shared_cols+['cosine00', 'cosine01', 'cosine02','cosine03']\n",
    "\n",
    "col_open_no_cosine03 = ['cosine00', 'cosine01', 'cosine02']\n",
    "\n",
    "col_open_no_cosines = shared_cols"
   ]
  },
  {
   "cell_type": "code",
   "execution_count": 3,
   "metadata": {
    "scrolled": false
   },
   "outputs": [],
   "source": [
    "for sub in subjects_list:\n",
    "    for rn in runs:\n",
    "        tsv_file = pth_conf+'/'+sub+'/func/'+sub+'_task-reproduction_'+rn+'_desc-confounds_timeseries.tsv'\n",
    "        output_file = pth_conf+'/confounds/'+sub+'_task-reproduction_'+rn+'_desc-confounds_timeseries_corr-fsl.txt'\n",
    "        df = pd.read_csv(tsv_file, sep = '\\t')\n",
    "        #print(sub+rn)\n",
    "        if sub==\"sub-10\" and rn==\"run-04\":\n",
    "            df = df[col_open_no_cosines]\n",
    "        elif sub==\"sub-18\" and rn==\"run-04\":\n",
    "            df = df[col_open_no_cosine03]\n",
    "        else:\n",
    "            df = df[col_open]\n",
    "\n",
    "\n",
    "        df.to_csv(output_file, sep='\\t', index=False)"
   ]
  },
  {
   "cell_type": "code",
   "execution_count": null,
   "metadata": {},
   "outputs": [],
   "source": []
  },
  {
   "cell_type": "code",
   "execution_count": null,
   "metadata": {},
   "outputs": [],
   "source": []
  },
  {
   "cell_type": "code",
   "execution_count": null,
   "metadata": {},
   "outputs": [],
   "source": []
  }
 ],
 "metadata": {
  "kernelspec": {
   "display_name": "Python 3",
   "language": "python",
   "name": "python3"
  },
  "language_info": {
   "codemirror_mode": {
    "name": "ipython",
    "version": 3
   },
   "file_extension": ".py",
   "mimetype": "text/x-python",
   "name": "python",
   "nbconvert_exporter": "python",
   "pygments_lexer": "ipython3",
   "version": "3.6.10"
  }
 },
 "nbformat": 4,
 "nbformat_minor": 4
}
