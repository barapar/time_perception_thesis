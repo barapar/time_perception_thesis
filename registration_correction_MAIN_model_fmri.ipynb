{
 "cells": [
  {
   "cell_type": "code",
   "execution_count": null,
   "metadata": {
    "scrolled": false
   },
   "outputs": [],
   "source": [
    "\"\"\"\n",
    "Created on Tue Jun 14 20:46:39 2022\n",
    "\n",
    "@author: tzu-yu\n",
    "@edit: Elizaveta B-P\n",
    "\"\"\"\n",
    "#==========================================\n",
    "#     ENTER MODEL YOU'RE WORKING WITH     \n",
    "#==========================================\n",
    "\n",
    "model = 'glm_complex_anova'\n",
    "\n",
    "import csv\n",
    "import os\n",
    "import shutil\n",
    "\n",
    "\n",
    "folder_dir = '/home/lisz/Desktop/Time_project/time_fmri/data/derivatives'\n",
    "\n",
    "DATA_DIR = folder_dir+'/'+model+'/glm_1st_level'\n",
    "\n",
    "\n",
    "runs = ['run-01', 'run-02', 'run-03', 'run-04']\n",
    "\n",
    "\n",
    "pth_sub_list = \"/home/lisz/Desktop/Time_project/time_fmri/data\"\n",
    "\n",
    "with open(pth_sub_list+'/participants.tsv', 'r') as tsv_file:\n",
    "    subjects_list = ['sub-{0:02d}'.format(int(row['participant_id'])) for row in csv.DictReader(tsv_file, delimiter='\\t')]\n",
    "\n",
    "\n",
    "# =============================================================================\n",
    "# Prepare reg directory\n",
    "# =============================================================================\n",
    "\n",
    "def prep_reg(sub, run):\n",
    "    # if there is no folder \"reg\", create one\n",
    "    if not os.path.isdir(os.path.join(DATA_DIR, sub, f'{run}.feat', 'reg')):\n",
    "        os.mkdir(os.path.join(DATA_DIR, sub, f'{run}.feat', 'reg'))\n",
    "        \n",
    "\n",
    "    # take identity matrix from the mat_files_for_reg\n",
    "    #1  0  0  0  \n",
    "    #0  1  0  0  \n",
    "    #0  0  1  0  \n",
    "    #0  0  0  1\n",
    "    shutil.copyfile(os.path.join(folder_dir, 'mat_files_for_reg','example_func2standard.mat'),\n",
    "                    os.path.join(DATA_DIR, sub, f'{run}.feat','reg', 'example_func2standard.mat'))\n",
    "\n",
    "    shutil.copyfile(os.path.join(folder_dir, 'mat_files_for_reg','example_func2standard.mat'),\n",
    "                    os.path.join(DATA_DIR, sub, f'{run}.feat','reg', 'standard2example_func.mat'))\n",
    "    # copy registration files within each subject\n",
    "    shutil.copyfile(os.path.join(DATA_DIR, sub, f'{run}.feat','mean_func.nii.gz'),\n",
    "                    os.path.join(DATA_DIR, sub, f'{run}.feat','reg', 'standard.nii.gz'))\n",
    "    \n",
    "for subject in subjects_list:\n",
    "    print(f'Processing {subject}')\n",
    "    for run in runs:\n",
    "        print(f'Run {run}')  \n",
    "        prep_reg(subject, run)\n"
   ]
  },
  {
   "cell_type": "code",
   "execution_count": null,
   "metadata": {},
   "outputs": [],
   "source": []
  },
  {
   "cell_type": "code",
   "execution_count": null,
   "metadata": {},
   "outputs": [],
   "source": []
  },
  {
   "cell_type": "code",
   "execution_count": null,
   "metadata": {},
   "outputs": [],
   "source": []
  }
 ],
 "metadata": {
  "kernelspec": {
   "display_name": "Python 3",
   "language": "python",
   "name": "python3"
  },
  "language_info": {
   "codemirror_mode": {
    "name": "ipython",
    "version": 3
   },
   "file_extension": ".py",
   "mimetype": "text/x-python",
   "name": "python",
   "nbconvert_exporter": "python",
   "pygments_lexer": "ipython3",
   "version": "3.6.10"
  }
 },
 "nbformat": 4,
 "nbformat_minor": 4
}
